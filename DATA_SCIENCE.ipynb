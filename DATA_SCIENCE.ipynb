{
 "cells": [
  {
   "cell_type": "markdown",
   "metadata": {},
   "source": [
    "## 1. Основы Python и анализа данных\n",
    "### 1.1. Целые числа, ввод-вывод, простые операции\n",
    "\n",
    "https://scikit-learn.ru/user_guide/"
   ]
  },
  {
   "cell_type": "code",
   "execution_count": 58,
   "metadata": {},
   "outputs": [
    {
     "name": "stdout",
     "output_type": "stream",
     "text": [
      "Hello World!\n"
     ]
    }
   ],
   "source": [
    "print('Hello World!')"
   ]
  },
  {
   "cell_type": "code",
   "execution_count": 59,
   "metadata": {},
   "outputs": [
    {
     "name": "stdout",
     "output_type": "stream",
     "text": [
      "5\n",
      "32\n",
      "3 + 2 = 5\n",
      "3 + 2 = 5\n",
      "4 + 3 + 2 + 1\n"
     ]
    }
   ],
   "source": [
    "print(3 + 2)                           # (1)\n",
    "print('3' + '2')                       # (2)\n",
    "print('3 + 2 =', 3 + 2)                # (3)\n",
    "print('3 + 2 =', 3 + 2, sep=' ')       # (4)\n",
    "print(4, 3, 2, 1, sep=' + ', end='\\n') # (5)"
   ]
  },
  {
   "cell_type": "code",
   "execution_count": 60,
   "metadata": {},
   "outputs": [
    {
     "name": "stdout",
     "output_type": "stream",
     "text": [
      "Объём пирамиды = 0.25\n"
     ]
    }
   ],
   "source": [
    "import math # Подключение математического модуля\n",
    "\n",
    "# Дана правильная треугольная пирамида\n",
    "a = 1  # 1 сторона основания\n",
    "b = 1  # 2 сторона основания\n",
    "c = 1  # 3 сторона основания\n",
    "\n",
    "h = math.sqrt(3)               # Высота пирамиды\n",
    "S = (a * a * math.sqrt(3)) / 4 # Площадь основания\n",
    "V = 1/3 * S * h                # Объём фигуры\n",
    "\n",
    "print('Объём пирамиды = {:.2f}'.format(V))"
   ]
  },
  {
   "cell_type": "code",
   "execution_count": 61,
   "metadata": {},
   "outputs": [
    {
     "name": "stdout",
     "output_type": "stream",
     "text": [
      "|123.00    |\n",
      "|    1234.0|\n",
      "|  12.0%   |\n"
     ]
    }
   ],
   "source": [
    "print('|{: <10.2f}|'.format(123.0))  # Выравнивание по левому краю\n",
    "print('|{: >10.1f}|'.format(1234.0)) # Выравнивание по правому краю\n",
    "print('|{: ^10.1%}|'.format(0.12))   # Выравнивание по центру"
   ]
  },
  {
   "cell_type": "code",
   "execution_count": 62,
   "metadata": {},
   "outputs": [
    {
     "name": "stdout",
     "output_type": "stream",
     "text": [
      "2\n",
      "3\n",
      "Площадь прямоугольника = 6.00\n"
     ]
    }
   ],
   "source": [
    "# Программа для нахождения площади прямоугольника\n",
    "a = int(input())  # сторона a\n",
    "b = int(input())  # сторона b\n",
    "\n",
    "S = a * b         # Площадь прямоугольника\n",
    "\n",
    "print('Площадь прямоугольника = {:.2f}'.format(S))"
   ]
  },
  {
   "cell_type": "code",
   "execution_count": 63,
   "metadata": {},
   "outputs": [
    {
     "name": "stdout",
     "output_type": "stream",
     "text": [
      "a\n",
      "abcde\n",
      "defghi\n",
      "i\n",
      "efg\n",
      "abcd\n",
      "ihgfedcba\n"
     ]
    }
   ],
   "source": [
    "string = 'abcdefghi'\n",
    "\n",
    "s_1 = string[0]\n",
    "s_2 = string[0:5]\n",
    "s_3 = string[3:]\n",
    "s_4 = string[-1]\n",
    "s_5 = string[-5:-2]\n",
    "s_6 = string[:-5]\n",
    "s_7 = string[::-1]\n",
    "print(s_1, s_2, s_3, s_4, s_5, s_6, s_7, sep='\\n')"
   ]
  },
  {
   "cell_type": "code",
   "execution_count": 64,
   "metadata": {},
   "outputs": [
    {
     "name": "stdout",
     "output_type": "stream",
     "text": [
      "3\n",
      "123123123\n",
      "2\n",
      "9\n"
     ]
    }
   ],
   "source": [
    "st = '123123456'\n",
    "\n",
    "s_1 = st.find('123', 3)           # Индекс первого вхождения от 3-го индекса\n",
    "s_2 = st.replace('456', '123', 1) # Замена '456' на '123' один раз\n",
    "s_3 = st.count('123')             # Подсчёт всех вхождений '123'\n",
    "\n",
    "s_4 = len(st)                     # Нахождение длины строки\n",
    "\n",
    "print(s_1, s_2, s_3, s_4, sep='\\n')"
   ]
  },
  {
   "cell_type": "markdown",
   "metadata": {},
   "source": [
    "### 1.2. Вещественные числа и операции над ними"
   ]
  },
  {
   "cell_type": "code",
   "execution_count": 65,
   "metadata": {},
   "outputs": [
    {
     "name": "stdout",
     "output_type": "stream",
     "text": [
      "0.30000000000000004\n"
     ]
    }
   ],
   "source": [
    "a = 0.1  # число a\n",
    "b = 0.2  # число b\n",
    "\n",
    "print(a + b)"
   ]
  },
  {
   "cell_type": "code",
   "execution_count": 66,
   "metadata": {},
   "outputs": [
    {
     "name": "stdout",
     "output_type": "stream",
     "text": [
      "2\n",
      "2\n",
      "2\n",
      "3\n"
     ]
    }
   ],
   "source": [
    "import math            # Подключение математического модуля\n",
    "\n",
    "print(int(2.5))        # Округление в сторону нуля\n",
    "print(round(2.5))      # Округляет до ближайшего целого\n",
    "print(math.floor(2.5)) # Округление в меньшую сторону\n",
    "print(math.ceil(2.5))  # Округление в большую сторону"
   ]
  },
  {
   "cell_type": "markdown",
   "metadata": {},
   "source": [
    "### 1.3. Условный оператор и цикл while"
   ]
  },
  {
   "cell_type": "code",
   "execution_count": 67,
   "metadata": {},
   "outputs": [
    {
     "name": "stdout",
     "output_type": "stream",
     "text": [
      "True False\n"
     ]
    }
   ],
   "source": [
    "a = 1  # значение a\n",
    "b = 2  # значение b\n",
    "c = 3  # значение c\n",
    "d = 4  # значение d\n",
    "\n",
    "result_1 = a <= b and c <= d\n",
    "result_2 = a >= b or c >= d\n",
    "\n",
    "print(result_1, result_2)"
   ]
  },
  {
   "cell_type": "code",
   "execution_count": 68,
   "metadata": {},
   "outputs": [
    {
     "name": "stdout",
     "output_type": "stream",
     "text": [
      "2\n",
      "Введённое число > 0\n"
     ]
    }
   ],
   "source": [
    "num = int(input())   # Ввод целого числа\n",
    "\n",
    "if num > 0:          # Если число num > 0, то выводим\n",
    "    print('Введённое число > 0')\n",
    "else:                # Иначе выводим следующее\n",
    "    print('Введённое число < 0')"
   ]
  },
  {
   "cell_type": "code",
   "execution_count": 69,
   "metadata": {},
   "outputs": [
    {
     "name": "stdout",
     "output_type": "stream",
     "text": [
      "2\n",
      "Два\n"
     ]
    }
   ],
   "source": [
    "num = int(input())   # Ввод целого числа\n",
    "\n",
    "if num == 1:         # Если число num = 1, то выводим\n",
    "    print('Один')\n",
    "elif num == 2:       # Если число num = 2, то выводим\n",
    "    print('Два')\n",
    "else:                # Иначе выводим следующее\n",
    "    print('Другое число')"
   ]
  },
  {
   "cell_type": "code",
   "execution_count": 70,
   "metadata": {},
   "outputs": [
    {
     "name": "stdout",
     "output_type": "stream",
     "text": [
      "3\n",
      "Вы ввели 3, программа продолжается\n",
      "0\n",
      "Вы ввели 0, программа завершена\n"
     ]
    }
   ],
   "source": [
    "num = int(input())     # Ввод целого числа\n",
    "\n",
    "while num != 0:        # Пока введённое число не равно нулю\n",
    "    print('Вы ввели {}, программа продолжается'.format(num))\n",
    "    num = int(input()) # Ввод нового числа\n",
    "\n",
    "print('Вы ввели 0, программа завершена')"
   ]
  },
  {
   "cell_type": "code",
   "execution_count": 71,
   "metadata": {},
   "outputs": [
    {
     "name": "stdout",
     "output_type": "stream",
     "text": [
      "5\n",
      "0 1 2 3 4 "
     ]
    }
   ],
   "source": [
    "num = int(input())     # Ввод целого числа\n",
    "out = 0\n",
    "\n",
    "while num > 0:         # Пока число > нуля\n",
    "    print(out, end=' ')\n",
    "    out += 1\n",
    "    num -= 1"
   ]
  },
  {
   "cell_type": "markdown",
   "metadata": {},
   "source": [
    "### 1.4. Кортежи, списки, их сортировка и цикл for"
   ]
  },
  {
   "cell_type": "code",
   "execution_count": 72,
   "metadata": {},
   "outputs": [
    {
     "name": "stdout",
     "output_type": "stream",
     "text": [
      "('1', '2', '3', '4', '5')\n",
      "['1', '2', '3', '4', '5']\n",
      "1\n",
      "5\n"
     ]
    }
   ],
   "source": [
    "string = '12345'       # Ввод строки\n",
    "\n",
    "tuplen = tuple(string) # Создание кортежа\n",
    "listn = list(string)   # Создание списка\n",
    "\n",
    "print(tuplen)          # Вывод кортежа\n",
    "print(listn)           # Вывод списка\n",
    "\n",
    "print(tuplen[0])       # Вывод элемента кортежа с индексом [0]\n",
    "print(listn[4])        # Вывод элемента списка с индексом [4]"
   ]
  },
  {
   "cell_type": "code",
   "execution_count": 73,
   "metadata": {},
   "outputs": [
    {
     "name": "stdout",
     "output_type": "stream",
     "text": [
      "[[4, 5, 8], [5, 3, 1], [7, 2, 5]]\n"
     ]
    }
   ],
   "source": [
    "# Определение списка целых чисел 3x3\n",
    "listn = [[5, 3, 1],            \n",
    "         [4, 5, 8],\n",
    "         [7, 2, 5]]\n",
    "\n",
    "# Сортировка списка по 2 столбцу с инверсией\n",
    "listn.sort(key=lambda i: i[1], reverse=True)\n",
    "\n",
    "print(listn)           # Вывод нового списка"
   ]
  },
  {
   "cell_type": "code",
   "execution_count": null,
   "metadata": {},
   "outputs": [],
   "source": [
    "listn = list(map(int, input().split()))"
   ]
  },
  {
   "cell_type": "code",
   "execution_count": 74,
   "metadata": {},
   "outputs": [
    {
     "name": "stdout",
     "output_type": "stream",
     "text": [
      "1 2 3\n"
     ]
    }
   ],
   "source": [
    "listn = [1, 2, 3]\n",
    "print(' '.join(map(str, listn)))"
   ]
  },
  {
   "cell_type": "code",
   "execution_count": 75,
   "metadata": {},
   "outputs": [
    {
     "name": "stdout",
     "output_type": "stream",
     "text": [
      "[0, 1, 2, 3, 4, 5, 6, 7, 8, 9]\n"
     ]
    }
   ],
   "source": [
    "print(list(range(10)))  # Генерация списка [0, 1, 2, 3, 4, 5, 6, 7, 8, 9]"
   ]
  },
  {
   "cell_type": "code",
   "execution_count": 76,
   "metadata": {},
   "outputs": [
    {
     "name": "stdout",
     "output_type": "stream",
     "text": [
      "Цвет яблока red\n",
      "Цвет яблока green\n",
      "Цвет яблока yellow\n"
     ]
    }
   ],
   "source": [
    "apples = ['red', 'green', 'yellow']\n",
    "for color in apples:\n",
    "    print('Цвет яблока', color, sep=' ')"
   ]
  },
  {
   "cell_type": "code",
   "execution_count": 77,
   "metadata": {},
   "outputs": [
    {
     "name": "stdout",
     "output_type": "stream",
     "text": [
      "[1, 4, 9, 16, 25, 36, 49, 64, 81]\n"
     ]
    }
   ],
   "source": [
    "listn = []               # Создание пустого списка\n",
    "\n",
    "for i in range(1, 10):   # Цикл для i от 1 до 9\n",
    "    listn.append(i**2)   # Добавления квадрата числа в список\n",
    "print(listn)             # Вывод списка на экран"
   ]
  },
  {
   "cell_type": "code",
   "execution_count": 78,
   "metadata": {},
   "outputs": [
    {
     "name": "stdout",
     "output_type": "stream",
     "text": [
      " 1  2  3  4  5  6  7  8  9 \n",
      " 2  4  6  8 10 12 14 16 18 \n",
      " 3  6  9 12 15 18 21 24 27 \n",
      " 4  8 12 16 20 24 28 32 36 \n",
      " 5 10 15 20 25 30 35 40 45 \n",
      " 6 12 18 24 30 36 42 48 54 \n",
      " 7 14 21 28 35 42 49 56 63 \n",
      " 8 16 24 32 40 48 56 64 72 \n",
      " 9 18 27 36 45 54 63 72 81 \n"
     ]
    }
   ],
   "source": [
    "for i in range(1, 10):\n",
    "    for j in range(1, 10):\n",
    "        print('{: >2.0f}'.format(i*j), end=' ')\n",
    "    print()"
   ]
  },
  {
   "cell_type": "code",
   "execution_count": null,
   "metadata": {},
   "outputs": [],
   "source": [
    "print('Введите номер столбца:')\n",
    "n = int(input())                  # Ввод номера столбца\n",
    "\n",
    "infile = open('input.txt')        # Открытие файла\n",
    "filen = infile.readlines()        # Чтение всех строк файла\n",
    "\n",
    "columns = []                      # Создание пустого списка columns\n",
    "column = []                       # Создание пустого списка column\n",
    "\n",
    "for f in filen:                   # Построчное чтение данных\n",
    "    line = f.split()              # Применение функции split() к строке\n",
    "    columns.append(line)          # Добавление строки к списку\n",
    "print(columns)                    # Вывод списка на экран\n",
    "for i in range(len(columns)):     # Срез столбца с номером n\n",
    "    column.append(columns[i][n])\n",
    "\n",
    "print('Содержимое {} столбца:'.format(n))\n",
    "print(column)\n",
    "\n",
    "infile.close()"
   ]
  },
  {
   "cell_type": "markdown",
   "metadata": {},
   "source": [
    "### 1.5. Функции и рекурсия"
   ]
  },
  {
   "cell_type": "code",
   "execution_count": 81,
   "metadata": {},
   "outputs": [
    {
     "name": "stdout",
     "output_type": "stream",
     "text": [
      "2\n",
      "3\n",
      "Сумма двух чисел =  5\n",
      "Разность двух чисел =  -1\n",
      "Произведение двух чисел =  6\n",
      "Частное двух чисел =  0.6666666666666666\n"
     ]
    }
   ],
   "source": [
    "a = int(input())\n",
    "b = int(input())\n",
    "\n",
    "def func_1(n1, n2):  # Функция для нахождения суммы\n",
    "    total = n1 + n2\n",
    "    return total\n",
    "\n",
    "def func_2(n1, n2):  # Функция для нахождения разности\n",
    "    differ = n1 - n2\n",
    "    return differ\n",
    "    \n",
    "def func_3(n1, n2):  # Функция для нахождения произведения\n",
    "    multip = n1 * n2\n",
    "    return multip\n",
    "    \n",
    "def func_4(n1, n2):  # Функция для нахождения частного\n",
    "    division = n1 / n2\n",
    "    return division\n",
    "\n",
    "print('Сумма двух чисел = ', func_1(a, b))\n",
    "\n",
    "print('Разность двух чисел = ', func_2(a, b))\n",
    "\n",
    "print('Произведение двух чисел = ', func_3(a, b))\n",
    "\n",
    "print('Частное двух чисел = ', func_4(a, b))"
   ]
  },
  {
   "cell_type": "code",
   "execution_count": 82,
   "metadata": {},
   "outputs": [
    {
     "name": "stdout",
     "output_type": "stream",
     "text": [
      "3\n",
      "Факториал без функции =  6\n",
      "Факториал через функцию =  6\n"
     ]
    }
   ],
   "source": [
    "n = int(input())\n",
    "\n",
    "fakt = 1\n",
    "for i in range(1, n + 1):      # Нахождение факториала\n",
    "        fakt *= i\n",
    "print('Факториал без функции = ', fakt)\n",
    "\n",
    "def faktorial(n):              # Функция нахождения факториала\n",
    "    fakt = 1\n",
    "    for i in range(1, n + 1):\n",
    "        fakt *= i\n",
    "    return fakt\n",
    "print('Факториал через функцию = ', faktorial(n))"
   ]
  },
  {
   "cell_type": "code",
   "execution_count": 83,
   "metadata": {},
   "outputs": [
    {
     "name": "stdout",
     "output_type": "stream",
     "text": [
      "4\n",
      "24\n"
     ]
    }
   ],
   "source": [
    "n = int(input())\n",
    "\n",
    "def faktorial(n):                # Функция нахождения факториала\n",
    "    if n == 0:\n",
    "        return 1\n",
    "    return n * faktorial(n - 1)  # Рекурсия функции faktorial(n)\n",
    "\n",
    "print(faktorial(n))"
   ]
  },
  {
   "cell_type": "markdown",
   "metadata": {},
   "source": [
    "### 1.6. Множества и словари"
   ]
  },
  {
   "cell_type": "code",
   "execution_count": 84,
   "metadata": {},
   "outputs": [
    {
     "name": "stdout",
     "output_type": "stream",
     "text": [
      "{1, 2, 3}\n",
      "{1, 2, 3}\n",
      "{1, 2, 3}\n",
      "{1, 3, 5, 7, 9}\n",
      "{1, (1, 2, 3), 'Python'}\n"
     ]
    }
   ],
   "source": [
    "nSet_1 = {3, 1, 2, 3}             # Создание множества\n",
    "print(nSet_1)\n",
    "\n",
    "nSet_2 = set((3, 1, 2))           # Создание множества из кортежа\n",
    "print(nSet_2)\n",
    "\n",
    "nSet_3 = set([3, 1, 2])           # Создание множества из списка\n",
    "print(nSet_3)\n",
    "\n",
    "nSet_4 = set(range(1, 10, 2))     # Создание множества, используя range()\n",
    "print(nSet_4)\n",
    "\n",
    "nSet_5 = {1, (1, 2, 3), 'Python'} # Создание множества из разных типов данных\n",
    "print(nSet_5)"
   ]
  },
  {
   "cell_type": "code",
   "execution_count": 85,
   "metadata": {},
   "outputs": [
    {
     "name": "stdout",
     "output_type": "stream",
     "text": [
      "1 3 5 2 4 "
     ]
    }
   ],
   "source": [
    "nSet = {1, '2', 3, '4', 5}        # Создание множества\n",
    "for elem in nSet:                 # Перебор всех элементов множества\n",
    "    print(elem, end=' ')          # Печать элемента на экран"
   ]
  },
  {
   "cell_type": "code",
   "execution_count": 86,
   "metadata": {},
   "outputs": [
    {
     "name": "stdout",
     "output_type": "stream",
     "text": [
      "{1, 2, 3, 4, 5, 6, 7, 8}\n",
      "{4, 5}\n",
      "{1, 2, 3}\n",
      "{1, 2, 3, 6, 7, 8}\n",
      "False\n",
      "True\n",
      "False\n",
      "False\n"
     ]
    }
   ],
   "source": [
    "nSet_1 = {1, 2, 3, 4, 5}\n",
    "nSet_2 = {4, 5, 6, 7, 8}\n",
    "\n",
    "print(nSet_1 | nSet_2)\n",
    "print(nSet_1 & nSet_2)\n",
    "print(nSet_1 - nSet_2)\n",
    "print(nSet_1 ^ nSet_2)\n",
    "\n",
    "print(nSet_1 == nSet_2)\n",
    "print(nSet_1 != nSet_2)\n",
    "print(nSet_1 <= nSet_2)\n",
    "print(nSet_1 < nSet_2)"
   ]
  },
  {
   "cell_type": "code",
   "execution_count": 87,
   "metadata": {},
   "outputs": [
    {
     "name": "stdout",
     "output_type": "stream",
     "text": [
      "{'Russia': 'Moscow', 'Germany': 'Berlin', 'France': 'Paris'}\n",
      "{'Russia': 'Moscow', 'France': 'Paris'}\n"
     ]
    }
   ],
   "source": [
    "countries = {'Russia' : 'Moscow', 'Germany' : 'Berlin', 'France' : 'Paris'}\n",
    "\n",
    "countries['Germany'] = 'Berlin' # Добавление 2 ключ-значение\n",
    "countries['France'] = 'Paris'   # Добавление 3 ключ-значение\n",
    "\n",
    "print(countries)\n",
    "\n",
    "del countries['Germany']        # Удаление элемента с ключом 'Germany'\n",
    "print(countries)"
   ]
  },
  {
   "cell_type": "code",
   "execution_count": 88,
   "metadata": {},
   "outputs": [
    {
     "name": "stdout",
     "output_type": "stream",
     "text": [
      "Russia Moscow\n",
      "Germany Berlin\n",
      "France Paris\n",
      "Russia Moscow\n",
      "Germany Berlin\n",
      "France Paris\n",
      "Russia\n",
      "Germany\n",
      "France\n",
      "Moscow\n",
      "Berlin\n",
      "Paris\n",
      "{'Russia': 'Moscow', 'Germany': 'Berlin', 'France': 'Paris', 'Spain': 'Madrid'}\n"
     ]
    }
   ],
   "source": [
    "countries = {'Russia' : 'Moscow', 'Germany' : 'Berlin', 'France' : 'Paris'}\n",
    "\n",
    "for country in countries:                  # Обращение к элементу по индексу\n",
    "    print(country, countries[country])\n",
    "\n",
    "for country, capital in countries.items(): # Обращение через функцию items()\n",
    "    print(country, capital)\n",
    "\n",
    "for country in countries.keys():           # Обращение к ключу словаря\n",
    "    print(country)\n",
    "\n",
    "for capital in countries.values():         # Обращение к значениям словаря\n",
    "    print(capital)\n",
    "\n",
    "countries.setdefault('Spain','Madrid')     # Добавления новой пары\n",
    "print(countries)"
   ]
  },
  {
   "cell_type": "markdown",
   "metadata": {},
   "source": [
    "### 1.7. Введение в объектно-ориентированное программирование"
   ]
  },
  {
   "cell_type": "code",
   "execution_count": 89,
   "metadata": {},
   "outputs": [
    {
     "name": "stdout",
     "output_type": "stream",
     "text": [
      "5 5\n",
      "25\n",
      "2 2\n",
      "4\n",
      "10 10\n",
      "100\n"
     ]
    }
   ],
   "source": [
    "class Area:\n",
    "    side_a = 5\n",
    "    side_b = 5\n",
    "    \n",
    "    def change_side_a(self, new_side_a):      # Изменение атрибута side_a\n",
    "        self.side_a = new_side_a\n",
    "        \n",
    "    def change_side_b(self, new_side_b):      # Изменение атрибута side_b\n",
    "        self.side_b = new_side_b\n",
    "        \n",
    "    def change_side_ab(self, new_side_a, new_side_b):\n",
    "        self.side_a = new_side_a\n",
    "        self.side_b = new_side_b\n",
    "        \n",
    "    def area(self):\n",
    "        return self.side_a*self.side_b\n",
    "\n",
    "obj = Area()                  # Создание нового объекта\n",
    "print(obj.side_a, obj.side_b) # Вывод на экран атрибутов\n",
    "print(obj.area())             # Площадь прямоугольника\n",
    "\n",
    "obj.change_side_a(2)          # Изменение атрибута side_a\n",
    "obj.change_side_b(2)          # Изменение атрибута side_b\n",
    "print(obj.side_a, obj.side_b) # Вывод на экран новых атрибутов\n",
    "print(obj.area())             # Площадь прямоугольника\n",
    "\n",
    "obj.change_side_ab(10, 10)    # Изменение атрибутов\n",
    "\n",
    "print(obj.side_a, obj.side_b) # Вывод на экран новых атрибутов\n",
    "print(obj.area())             # Площадь прямоугольника"
   ]
  },
  {
   "cell_type": "code",
   "execution_count": 90,
   "metadata": {},
   "outputs": [
    {
     "name": "stdout",
     "output_type": "stream",
     "text": [
      "5 5\n",
      "25\n",
      "3 3\n",
      "9\n"
     ]
    }
   ],
   "source": [
    "class Area_1:                 # Создание класса Area_1\n",
    "    side_a = 5\n",
    "    side_b = 5\n",
    "\n",
    "    def change_side_a(self, new_side_a):      # Изменение атрибута side_a\n",
    "        self.side_a = new_side_a\n",
    "    \n",
    "    def change_side_b(self, new_side_b):      # Изменение атрибута side_b\n",
    "        self.side_b = new_side_b\n",
    "    \n",
    "    def area(self):\n",
    "        return self.side_a*self.side_b\n",
    "    \n",
    "class Area_2(Area_1):         # Создание класса Area_2\n",
    "    \n",
    "    def change_side_ab(self, new_side_a, new_side_b):\n",
    "        self.side_a = new_side_a\n",
    "        self.side_b = new_side_b\n",
    "\n",
    "obj = Area_2()                # Создание нового объекта\n",
    "\n",
    "print(obj.side_a, obj.side_b) # Вывод на экран атрибутов\n",
    "print(obj.area())             # Площадь прямоугольника\n",
    "\n",
    "obj.change_side_ab(3, 3)\n",
    "\n",
    "print(obj.side_a, obj.side_b) # Вывод на экран новых атрибутов\n",
    "print(obj.area())             # Площадь прямоугольника"
   ]
  },
  {
   "cell_type": "code",
   "execution_count": null,
   "metadata": {},
   "outputs": [],
   "source": [
    "a = int(input())\n",
    "b = int(input())\n",
    "\n",
    "class One:                 # Определение класса One\n",
    "    def function(self):    # Определение функции function для класса One\n",
    "        return a + b\n",
    "\n",
    "class Two:                 # Определение класса Two\n",
    "    def function(self):    # Определение функции function для класса Two\n",
    "        return a - b  \n",
    "obj_1 = One()              # Создание нового объекта obj_1\n",
    "obj_2 = Two()              # Создание нового объекта obj_2\n",
    "\n",
    "print(obj_1.func())\n",
    "print(obj_2.func())"
   ]
  },
  {
   "cell_type": "code",
   "execution_count": 92,
   "metadata": {},
   "outputs": [
    {
     "name": "stdout",
     "output_type": "stream",
     "text": [
      "Elon Musk\n",
      "Elon Musk\n"
     ]
    }
   ],
   "source": [
    "class YesInit:                    # Класс с конструктором класса\n",
    "    def __init__(self, one, two):\n",
    "        self.fname = one\n",
    "        self.sname = two\n",
    "\n",
    "obj = YesInit('Elon', 'Musk') \n",
    "print (obj.fname, obj.sname)      # Вывод: Elon Musk\n",
    "    \n",
    "class NoInit:                     # Класс без конструктором класса\n",
    "    def names(self, one, two):\n",
    "        self.fname = one\n",
    "        self.sname = two \n",
    "\n",
    "obj = NoInit()  \n",
    "obj.names('Elon', 'Musk') \n",
    "print (obj.fname, obj.sname)      # Вывод: Elon Musk"
   ]
  },
  {
   "cell_type": "code",
   "execution_count": 93,
   "metadata": {},
   "outputs": [
    {
     "name": "stdout",
     "output_type": "stream",
     "text": [
      "8\n",
      "2\n",
      "15\n",
      "1.0\n"
     ]
    }
   ],
   "source": [
    "class mMet:\n",
    "    def __init__(self, x):      # Создание конструктора __init__\n",
    "        self.base = x\n",
    "        \n",
    "    def __add__(self, a):       # Создание метода __add__\n",
    "        return self.base + a\n",
    "    def __sub__(self, a):       # Создание метода __sub__\n",
    "        return self.base - a\n",
    "    def __mul__(self, a):       # Создание метода __mul__\n",
    "        return self.base * a\n",
    "    def __div__(self, a):       # Создание метода __div__\n",
    "        return self.base / a\n",
    "\n",
    "res = mMet(5)\n",
    "\n",
    "print(res.__add__(3))           # Вывод: 8\n",
    "print(res.__sub__(3))           # Вывод: 2\n",
    "print(res.__mul__(3))           # Вывод: 15\n",
    "print(res.__div__(5))           # Вывод: 1.0"
   ]
  },
  {
   "cell_type": "markdown",
   "metadata": {},
   "source": [
    "## 2. Предобработка исследовательских данных\n",
    "### 2.1. Подключение и работа с библиотекой numpy"
   ]
  },
  {
   "cell_type": "code",
   "execution_count": 48,
   "metadata": {},
   "outputs": [],
   "source": [
    "import numpy as np\n",
    "\n",
    "a = np.array([[1, 2, 3],    # Массив 3x3 из списков\n",
    "              [1, 2, 3],\n",
    "              [1, 2, 3]])\n",
    "b = np.arange(1, 10, 1)     # Массив от 1 до 10 с шагом 1\n",
    "c = np.empty((3, 3))        # Массив 3x3 без заполнения\n",
    "d = np.eye(5)               # Единичная матрица 5x5\n",
    "e = np.linspace(0, 2, 9)    # Массив 0-2 всего 9 значений"
   ]
  },
  {
   "cell_type": "code",
   "execution_count": 49,
   "metadata": {},
   "outputs": [
    {
     "name": "stdout",
     "output_type": "stream",
     "text": [
      "[2 4 6 8]\n",
      "[0 0 0 0]\n",
      "[ 1  4  9 16]\n",
      "[1. 1. 1. 1.]\n",
      "[  1   4  27 256]\n",
      "[0 0 0 0]\n",
      "[0 1 2]\n",
      "[3 4 5]\n",
      "[6 7 8]\n",
      "0\n",
      "1\n",
      "2\n",
      "3\n",
      "4\n",
      "5\n",
      "6\n",
      "7\n",
      "8\n"
     ]
    }
   ],
   "source": [
    "import numpy as np\n",
    "\n",
    "# Арифметические операции (размер массивов одинаковый)\n",
    "\n",
    "a = np.array([1, 2, 3, 4])\n",
    "b = np.arange(1, 5)\n",
    "\n",
    "print(a + b)     # Суммирование элементов\n",
    "print(a - b)     # Вычитание элементов\n",
    "print(a * b)     # Умножение элементов\n",
    "print(a / b)     # Деление элементов\n",
    "print(a ** b)    # Возведение в степень\n",
    "print(a % b)     # Остаток от деления\n",
    "\n",
    "np.sin(a)      # Тригонометрическая функция sin() \n",
    "np.cos(a)      # Тригонометрическая функция cos() \n",
    "np.arctan(b)   # Тригонометрическая функция arctan()\n",
    "\n",
    "a = np.array([1, 2, 3, 4])\n",
    "\n",
    "a.sum()          # Нахождение суммы элементов массива\n",
    "a.min()          # Нахождения минимума массива \n",
    "a.max()          # Нахождения максимума массива  \n",
    "\n",
    "a.min(axis = 0)  # Наименьшее число в каждом столбце (для строк = 1)\n",
    "\n",
    "# Индексы, срезы, итерации\n",
    "\n",
    "a = np.array([[0, 1, 2],\n",
    "              [3, 4, 5],\n",
    "              [6, 7, 8]])\n",
    "\n",
    "a[1, 2]          # Вторая строка, третий столбец (допустимо a[1][2])\n",
    "a[:, 1]          # Второй столбец\n",
    "a[:1]            # Первая строка\n",
    "a[0:2, :]        # Первая и вторая строки\n",
    "\n",
    "for row in a:       # Построчный вывод массива\n",
    "    print(row)\n",
    "for elem in a.flat: # Поэлементный вывод массива\n",
    "    print(elem)\n",
    "    \n",
    "# Объединение и разделение массивов\n",
    "\n",
    "a = np.array([[1, 2], [3, 4]]) \n",
    "b = np.array([[5, 6], [7, 8]]) \n",
    "np.vstack((a, b))       # Объединение по первым осям\n",
    "np.hstack((a, b))       # Объединение по последним осям\n",
    "\n",
    "a = np.array([1, 2]) \n",
    "b = np.array([3, 4]) \n",
    "np.column_stack((a, b)) # Объединение столбцов одномерных массивов\n",
    "np.row_stack((a, b))    # Объединение строк одномерных массивов\n",
    "\n",
    "a = np.array([[1, 2, 3], [3, 4, 5]])\n",
    "np.hsplit(a, 3)         # Разбить массив на 3 части\n",
    "np.hsplit(a, (2, 3))    # Разрезать a после второго и третьего столбца\n",
    "\n",
    "d = a.copy()            # Новый объект массива с новыми данными"
   ]
  },
  {
   "cell_type": "code",
   "execution_count": 50,
   "metadata": {},
   "outputs": [],
   "source": [
    "heights = [189, 170, 189, 163, 183, 171, 185, 168, 173, 183, 173, 173, 175, 178, 183, 193, 178, 173, 174, 183, \n",
    "183, 180, 168, 180, 170, 178, 182, 180, 183, 178, 182, 188, 175, 179, 183, 193, 182, 183, 177, 185, 188, 188, 182,\n",
    "           185, 191]\n",
    "\n",
    "ages = [57, 61, 57, 57, 58, 57, 61, 54, 68, 51, 49, 64, 50, 48, 65, 52, 56, 46, 54, 49, 51, 47, 55, 55, 54, 42, 51,\n",
    "        56, 55, 51, 54, 51, 60, 62, 43, 55, 56, 61, 52, 69, 64, 46, 54, 47, 70]"
   ]
  },
  {
   "cell_type": "code",
   "execution_count": 51,
   "metadata": {},
   "outputs": [
    {
     "name": "stdout",
     "output_type": "stream",
     "text": [
      "5\n"
     ]
    }
   ],
   "source": [
    "cnt = 0\n",
    "for height in heights:\n",
    "  if height > 188:\n",
    "    cnt +=1\n",
    "print(cnt)"
   ]
  },
  {
   "cell_type": "code",
   "execution_count": 52,
   "metadata": {},
   "outputs": [
    {
     "name": "stdout",
     "output_type": "stream",
     "text": [
      "45\n",
      "45\n",
      "(45,)\n",
      "(45,)\n",
      "int64\n",
      "int64\n"
     ]
    }
   ],
   "source": [
    "import numpy as np\n",
    "\n",
    "heights = [189, 170, 189, 163, 183, 171, 185, 168, 173, 183, 173, 173, 175, 178, 183, 193, 178, 173, 174, 183, 183, 180, 168, 180, 170, 178, 182, 180, 183, 178, 182, 188, 175, 179, 183, 193, 182, 183, 177, 185, 188, 188, 182, 185, 191]\n",
    "ages = [57, 61, 57, 57, 58, 57, 61, 54, 68, 51, 49, 64, 50, 48, 65, 52, 56, 46, 54, 49, 51, 47, 55, 55, 54, 42, 51, 56, 55, 51, 54, 51, 60, 62, 43, 55, 56, 61, 52, 69, 64, 46, 54, 47, 70]\n",
    "\n",
    "# Преобразование типа данных\n",
    "heights_arr = np.array(heights)\n",
    "ages_arr = np.array(ages)\n",
    "\n",
    "# Вывод на экран кол-во элементов каждого массива\n",
    "print(heights_arr.size)\n",
    "print(ages_arr.size)\n",
    "\n",
    "# Вывод на экран размера массива\n",
    "print(heights_arr.shape)\n",
    "print(ages_arr.shape)\n",
    "\n",
    "print(heights_arr.dtype)\n",
    "print(ages_arr.dtype)"
   ]
  },
  {
   "cell_type": "code",
   "execution_count": null,
   "metadata": {},
   "outputs": [],
   "source": [
    "# Изменение формы массива (строка –> столбец)\n",
    "heights_arr = heights_arr.reshape((45,1))\n",
    "ages_arr = ages_arr.reshape((45,1))\n",
    "\n",
    "# Изменение формы массива (столбец –> строка)\n",
    "heights_arr = heights_arr.reshape((1,45))\n",
    "ages_arr = ages_arr.reshape((1,45))\n",
    "\n",
    "# Объединение массивов heights_arr и ages_arr\n",
    "height_age_arr = np.hstack((heights_arr, ages_arr))\n",
    "\n",
    "# Переназначение элементов массива\n",
    "heights_and_ages_arr[0, 3] = 165\n",
    "heights_and_ages_arr[:, 0] = [190, 58]\n",
    "new_record = np.array([[180, 183, 190], [54, 50, 69]])\n",
    "heights_and_ages_arr[:, 42:] = new_record\n",
    "\n",
    "# Связывание массивов heights_arr и ages_arr\n",
    "height_age_arr = np.concatenate((heights_arr, ages_arr), axis=1) \n",
    "\n",
    "# Применение математических операций (*, /, +, -)\n",
    "height_age_arr[:,0]*0.0328084\n",
    "\n",
    "# Применение методов numpy\n",
    "height_age_arr.sum()\n",
    "height_age_arr.sum(axis=0)\n",
    "\n",
    "# Использование логических условий\n",
    "height_age_arr[:, 1] < 55\n",
    "height_age_arr[:, 1] == 51\n",
    "\n",
    "# Использование маски для среза данных\n",
    "mask = height_age_arr[:, 0] >= 182\n",
    "mask.sum()\n",
    "mask = (height_age_arr[:, 0]>=182) & (height_age_arr[:,1]<=50)\n",
    "height_age_arr[mask,]"
   ]
  },
  {
   "cell_type": "code",
   "execution_count": 54,
   "metadata": {},
   "outputs": [
    {
     "name": "stdout",
     "output_type": "stream",
     "text": [
      "5\n"
     ]
    }
   ],
   "source": [
    "import numpy as np\n",
    "heights_arr = np.array(heights)\n",
    "print((heights_arr > 188).sum())"
   ]
  },
  {
   "cell_type": "markdown",
   "metadata": {},
   "source": [
    "### 2.2. Подключение и работа с библиотекой pandas"
   ]
  },
  {
   "cell_type": "code",
   "execution_count": null,
   "metadata": {},
   "outputs": [],
   "source": [
    "import pandas as pd\n",
    "\n",
    "# Создание Series из словаря\n",
    "pd.Series({'a': 1, 'b': 2, 'c': 3})\n",
    "\n",
    "# Создание Series из списка\n",
    "pd.Series([1, 2, 3], index=['a', 'b', 'c'])\n",
    "\n",
    "# Создание Series, используя numpy\n",
    "pd.Series(np.array([1, 2, 3]), index=['a', 'b', 'c'])\n",
    "series['a']"
   ]
  },
  {
   "cell_type": "code",
   "execution_count": 56,
   "metadata": {},
   "outputs": [
    {
     "name": "stdout",
     "output_type": "stream",
     "text": [
      "   block_1  block_2\n",
      "a        1        4\n",
      "b        2        5\n",
      "c        3        6\n"
     ]
    }
   ],
   "source": [
    "import pandas as pd\n",
    "\n",
    "# Создание DataFrame из словаря\n",
    "block = {\n",
    "  'block_1':[1, 2, 3], \n",
    "  'block_2':[4, 5, 6]\n",
    "}\n",
    "# pd.DataFrame(data = data, columns = columns)\n",
    "df = pd.DataFrame(block, index=[\"a\", \"b\", \"c\"])\n",
    "print(df)"
   ]
  },
  {
   "cell_type": "code",
   "execution_count": null,
   "metadata": {},
   "outputs": [],
   "source": [
    "import pandas as pd\n",
    "\n",
    "# Загрузка таблицы из txt, lvm, csv и xlsx\n",
    "df1 = pd.read_csv('data.txt', sep='\\t')\n",
    "df2 = pd.read_csv('data.lvm', sep='\\t')\n",
    "df3 = pd.read_excel('data.xlsx')\n",
    "df4 = pd.read_csv('data.csv')"
   ]
  },
  {
   "cell_type": "code",
   "execution_count": 57,
   "metadata": {},
   "outputs": [
    {
     "name": "stdout",
     "output_type": "stream",
     "text": [
      "   first_col  second_col  third_col\n",
      "0          1           8         15\n",
      "1          2           9         16\n",
      "2          3          10         17\n",
      "   first_col  second_col  third_col\n",
      "2          3          10         17\n",
      "3          4          11         18\n",
      "4          5          12         19\n"
     ]
    }
   ],
   "source": [
    "import pandas as pd\n",
    "\n",
    "numbers = [[1, 8, 15],\n",
    "           [2, 9, 16],\n",
    "           [3, 10, 17],\n",
    "           [4, 11, 18],\n",
    "           [5, 12, 19]]\n",
    "\n",
    "header = ['first_col', 'second_col', 'third_col']\n",
    "\n",
    "df = pd.DataFrame(data = numbers, columns = header)\n",
    "\n",
    "print(df.head(3)) # 3 первых строки\n",
    "print(df.tail(3)) # 3 последних строки"
   ]
  },
  {
   "cell_type": "markdown",
   "metadata": {},
   "source": [
    "### 2.3. Срезы данных и логическое индексирование"
   ]
  },
  {
   "cell_type": "code",
   "execution_count": null,
   "metadata": {},
   "outputs": [],
   "source": [
    "# df.loc[строка, столбец]\n",
    "\n",
    "df.loc[7, 'column']                 # Одна ячейка\n",
    "df.loc[:, 'column']                 # Один столбец\n",
    "df.loc[:, ['column_1', 'column_3']] # Несколько столбцов \n",
    "df.loc[:, 'column_2': 'column_4']   # Несколько столбцов подряд\n",
    "df.loc[1]                           # Одна строка \n",
    "df.loc[1:]                          # Все строки, начиная с заданной \n",
    "df.loc[:3]                          # Все строки до заданной \n",
    "df.loc[2:5]                         # Несколько строк подряд (срез)"
   ]
  },
  {
   "cell_type": "code",
   "execution_count": null,
   "metadata": {},
   "outputs": [],
   "source": [
    "# Строки, удовлетворяющие условию\n",
    "df.loc[df.loc[:,'column'] == 'X']\n",
    "df[df['column'] == 'X']\n",
    "\n",
    "# Столбец, удовлетворяющий условию\n",
    "df.loc[df.loc[:,'column'] == 'X']['column']\n",
    "df[df['column'] == 'X']['column']\n",
    "\n",
    "# С применение метода\n",
    "df.loc[df.loc[:,'column'] == 'X']['column'].count()\n",
    "df[df['column'] == 'X']['column'].count()"
   ]
  },
  {
   "cell_type": "markdown",
   "metadata": {},
   "source": [
    "### 2.4. Предобработка данных"
   ]
  },
  {
   "cell_type": "code",
   "execution_count": null,
   "metadata": {},
   "outputs": [],
   "source": [
    "# Назначение новых названий для столбцов\n",
    "df.set_axis(['first','second'], axis = 'columns', inplace = True)\n",
    "\n",
    "# Поиск и сумма всех пустых значений в таблице\n",
    "df.isnull().sum()\n",
    "df.isna().sum()\n",
    "\n",
    "# Замена всех пустых значений на нули\n",
    "df = df.fillna(0)\n",
    "\n",
    "# Удаление указанных столбцов из таблицы\n",
    "df.dropna(subset = ['first','second'], inplace = True)\n",
    "\n",
    "# Поиск и сумма всех дубликатов в таблице\n",
    "df.duplicated().sum()\n",
    "\n",
    "# Удаление дубликатов и новое индексирование данных\n",
    "df.drop_duplicates().reset_index(drop = True)\n",
    "\n",
    "# Поиск уникальных значений в таблице\n",
    "df['column'].unique()\n",
    "\n",
    "# Сортировка значений по заданному столбцу\n",
    "df.sort_values(by=['column'])\n",
    "\n",
    "# Количество уникальных значений в столбце\n",
    "df['column'].value_counts(dropna=False)\n",
    "df['column'].value_counts(normalize=True) # значения разделены на сумму\n",
    "\n",
    "# Замена значения f_value на s_value\n",
    "df.replace('f_value', 's_value')"
   ]
  },
  {
   "cell_type": "markdown",
   "metadata": {},
   "source": [
    "### 2.5. Изменение типов данных"
   ]
  },
  {
   "cell_type": "code",
   "execution_count": null,
   "metadata": {},
   "outputs": [],
   "source": [
    "import pandas as pd\n",
    "\n",
    "# Создание таблицы из внешнего файла excel\n",
    "df = pd.read_excel('file.xlsx', sheet_name='Лист1')\n",
    "\n",
    "# 1. Перевод значений столбца из типа str в вещественный float\n",
    "\n",
    "pd.to_numeric(df['column'], errors='raise')\n",
    "# если errors='raise', то в случае ошибок преобразование будет прервано\n",
    "pd.to_numeric(df['column'], errors='coerce')\n",
    "# если errors='coerce', то значения заменяются на NaN\n",
    "pd.to_numeric(df['column'], errors='ignore')\n",
    "# если errors='ignore', то значения игнорируются, но остаются\n",
    "\n",
    "# 2. Изменение типа данных на заданный (int32/64, float32/64, str)\n",
    "df['column'].astype('type')\n",
    "df['column'] = df['column'].astype('type')\n",
    "\n",
    "# 3. Перевод из строки в дату и время\n",
    "pd.to_datetime(df['date_time_column'], format='%d.%m.%Y %H:%M:%S')\n",
    "\n",
    "'''\n",
    "Формат строится с использованием следующих обозначений:\n",
    "• %d - день месяца (от 01 до 31)\n",
    "• %m - номер месяца (от 01 до 12)\n",
    "• %Y - год с указанием столетия (например, 2019)\n",
    "• %H - номер часа в 24-часовом формате\n",
    "• %I - номер часа в 12-часовом формате\n",
    "• %M - минуты (от 00 до 59)\n",
    "• %S - секунды (от 00 до 59)\n",
    "• %b – сокращённое название месяца\n",
    "• %В – полное название месяца\n",
    "• %a – день недели (коротко)\n",
    "• %A – день недели (полностью)\n",
    "• %p – до полудня (AM)\n",
    "'''\n",
    "\n",
    "# Получение отдельных данных из столбца с датой и временем\n",
    "pd.DatetimeIndex(df['time_time_column']).year   # год\n",
    "pd.DatetimeIndex(df['time_time_column']).month  # месяц\n",
    "pd.DatetimeIndex(df['time_time_column']).day    # день\n",
    "pd.DatetimeIndex(df['time_time_column']).hour   # час\n",
    "pd.DatetimeIndex(df['time_time_column']).minute # минут\n",
    "pd.DatetimeIndex(df['time_time_column']).second # секунд"
   ]
  },
  {
   "cell_type": "markdown",
   "metadata": {},
   "source": [
    "## 3. Визуализация данных"
   ]
  },
  {
   "cell_type": "code",
   "execution_count": null,
   "metadata": {},
   "outputs": [],
   "source": [
    "# Подключение библиотеки matplotlib\n",
    "import matplotlib as mpl\n",
    "\n",
    "# Подключение библиотеки matplotlib.pyplot\n",
    "import matplotlib.pyplot as plt"
   ]
  },
  {
   "cell_type": "markdown",
   "metadata": {},
   "source": [
    "### 3.1. Библиотека matplotlib"
   ]
  },
  {
   "cell_type": "code",
   "execution_count": null,
   "metadata": {},
   "outputs": [],
   "source": [
    "import matplotlib.pyplot as plt\n",
    "fig = plt.figure()\n",
    "ax = plt.axes()\n",
    "plt.show()"
   ]
  },
  {
   "cell_type": "markdown",
   "metadata": {},
   "source": [
    "### 3.2. Линейный график"
   ]
  },
  {
   "cell_type": "code",
   "execution_count": 4,
   "metadata": {},
   "outputs": [
    {
     "data": {
      "image/png": "[encoded data removed]",
      "text/plain": [
       "<Figure size 640x480 with 1 Axes>"
      ]
     },
     "metadata": {},
     "output_type": "display_data"
    }
   ],
   "source": [
    "import matplotlib.pyplot as plt\n",
    "import numpy as np\n",
    "\n",
    "x_data = np.linspace(0, 20, 1000) # от 0 до 20 с шагом 0.01\n",
    "y_data = np.cos(x_data)\n",
    "\n",
    "fig = plt.figure()\n",
    "ax = plt.axes()\n",
    "ax.plot(x_data, y_data)\n",
    "plt.show()"
   ]
  },
  {
   "cell_type": "code",
   "execution_count": 5,
   "metadata": {},
   "outputs": [
    {
     "data": {
      "image/png": "[encoded data removed]",
      "text/plain": [
       "<Figure size 640x480 with 1 Axes>"
      ]
     },
     "metadata": {},
     "output_type": "display_data"
    }
   ],
   "source": [
    "import matplotlib.pyplot as plt\n",
    "import numpy as np\n",
    "\n",
    "x_data = np.linspace(0, 20, 1000)\n",
    "y_data = np.sin(x_data)\n",
    "\n",
    "plt.plot(x_data, y_data)\n",
    "plt.show()"
   ]
  },
  {
   "cell_type": "code",
   "execution_count": 6,
   "metadata": {},
   "outputs": [
    {
     "data": {
      "image/png": "[encoded data removed]",
      "text/plain": [
       "<Figure size 640x480 with 1 Axes>"
      ]
     },
     "metadata": {},
     "output_type": "display_data"
    }
   ],
   "source": [
    "import matplotlib.pyplot as plt\n",
    "import numpy as np\n",
    "\n",
    "x_data = np.linspace(0, 20, 1000)\n",
    "y_1_data = np.cos(x_data)\n",
    "y_2_data = np.sin(x_data)\n",
    "\n",
    "plt.plot(x_data, y_1_data, color='r', linestyle ='--')\n",
    "plt.plot(x_data, y_2_data)\n",
    "\n",
    "plt.xlabel('x_data')\n",
    "plt.ylabel('y_data')\n",
    "plt.title('function')\n",
    "plt.show()"
   ]
  },
  {
   "cell_type": "markdown",
   "metadata": {},
   "source": [
    "### 3.3. Точечный график"
   ]
  },
  {
   "cell_type": "code",
   "execution_count": 7,
   "metadata": {},
   "outputs": [
    {
     "data": {
      "image/png": "[encoded data removed]",
      "text/plain": [
       "<Figure size 640x480 with 1 Axes>"
      ]
     },
     "metadata": {},
     "output_type": "display_data"
    }
   ],
   "source": [
    "# Построение графика с использованием модуля numpy\n",
    "import matplotlib.pyplot as plt\n",
    "import numpy as np\n",
    "\n",
    "x_data = np.linspace(0, 20, 1000)\n",
    "y_data = np.cos(x_data)\n",
    "plt.scatter(x_data, y_data, color='r', marker='>')\n",
    "plt.xlabel('x')\n",
    "plt.ylabel('y')\n",
    "plt.title('function')\n",
    "plt.show()"
   ]
  },
  {
   "cell_type": "code",
   "execution_count": 8,
   "metadata": {},
   "outputs": [
    {
     "data": {
      "image/png": "[encoded data removed]",
      "text/plain": [
       "<Figure size 640x480 with 1 Axes>"
      ]
     },
     "metadata": {},
     "output_type": "display_data"
    }
   ],
   "source": [
    "# Построение графика с использованием модуля pandas\n",
    "import matplotlib.pyplot as plt\n",
    "import pandas as pd\n",
    "import numpy as np\n",
    "\n",
    "numbers = [[1, 5], [2, 3], [3, 6], [4, 7], [5, 4]]\n",
    "\n",
    "header = ['x_data', 'y_data']\n",
    "\n",
    "df = pd.DataFrame(data = numbers, columns = header)\n",
    "\n",
    "plt.scatter(df['x_data'], df['y_data'], marker='o')\n",
    "# df.plot(kind = 'scatter', x = ' x_data', y = 'y_data', marker='o')\n",
    "plt.show()"
   ]
  },
  {
   "cell_type": "markdown",
   "metadata": {},
   "source": [
    "### 3.4. Построение гистограмм и столбчатых диаграмм"
   ]
  },
  {
   "cell_type": "code",
   "execution_count": null,
   "metadata": {},
   "outputs": [],
   "source": [
    "# Построение гистограмм\n",
    "import matplotlib.pyplot as plt\n",
    "import numpy as np\n",
    "heights = [-]\n",
    "ages = [-]\n",
    "\n",
    "# Создание общего графического окна с nrows = 1, ncols = 2\n",
    "fig, (ax1, ax2) = plt.subplots(nrows=1, ncols=2, figsize=(8, 4))\n",
    "\n",
    "ax1.hist(heights, bins = 10, color='b')\n",
    "ax2.hist(ages, bins = 10, color='r')\n",
    "\n",
    "plt.show()"
   ]
  },
  {
   "cell_type": "code",
   "execution_count": 2,
   "metadata": {},
   "outputs": [
    {
     "data": {
      "image/png": "[encoded data removed]",
      "text/plain": [
       "<Figure size 640x480 with 1 Axes>"
      ]
     },
     "metadata": {},
     "output_type": "display_data"
    }
   ],
   "source": [
    "import matplotlib.pyplot as plt\n",
    "import numpy as np\n",
    "\n",
    "x = np.arange(1, 8)\n",
    "y = np.random.randint(1, 20, size = 7)\n",
    "plt.style.use('ggplot')\n",
    "plt.bar(x, y, color='b')\n",
    "plt.show()"
   ]
  },
  {
   "cell_type": "code",
   "execution_count": null,
   "metadata": {},
   "outputs": [],
   "source": [
    "name_cnt = df['name'].value_counts()\n",
    "\n",
    "plt.style.use('ggplot')\n",
    "name_cnt.plot(kind ='bar')\n",
    "plt.show()"
   ]
  },
  {
   "cell_type": "markdown",
   "metadata": {},
   "source": [
    "### 3.5. Построение boxplot (ящик с усами)"
   ]
  },
  {
   "cell_type": "code",
   "execution_count": null,
   "metadata": {},
   "outputs": [],
   "source": [
    "# Определение уникальных значений в столбце name\n",
    "import matplotlib.pyplot as plt\n",
    "import numpy as np\n",
    "\n",
    "heights = [-] # people_dataset\n",
    "\n",
    "plt.style.use('classic')\n",
    "plt.boxplot(heights)\n",
    "plt.show()"
   ]
  },
  {
   "cell_type": "markdown",
   "metadata": {},
   "source": [
    "## 4. Статистический анализ данных\n",
    "### 4.1. Среднее значение, медиана, мода и диапазон"
   ]
  },
  {
   "cell_type": "code",
   "execution_count": 9,
   "metadata": {},
   "outputs": [
    {
     "name": "stdout",
     "output_type": "stream",
     "text": [
      "5.5\n",
      "5.5\n"
     ]
    }
   ],
   "source": [
    "# Нахождение среднего средствами numpy\n",
    "import numpy as np\n",
    "\n",
    "nums = [1, 2, 3, 4, 5, 6, 7, 8, 9, 10]\n",
    "nums_arr = np.array(nums)\n",
    "\n",
    "print(np.mean(nums))\n",
    "\n",
    "# Нахождение среднего средствами pandas\n",
    "import pandas as pd\n",
    "\n",
    "data = {'nums':[1, 2, 3, 4, 5, 6, 7, 8, 9, 10]}\n",
    "df = pd.DataFrame(data)\n",
    "\n",
    "print(df['nums'].mean())"
   ]
  },
  {
   "cell_type": "code",
   "execution_count": 10,
   "metadata": {},
   "outputs": [
    {
     "name": "stdout",
     "output_type": "stream",
     "text": [
      "5.5\n",
      "5.5\n"
     ]
    }
   ],
   "source": [
    "# Нахождение медианы средствами numpy\n",
    "import numpy as np\n",
    "\n",
    "nums = [1, 2, 3, 4, 5, 6, 7, 8, 9, 10]\n",
    "nums_arr = np.array(nums)\n",
    "\n",
    "print(np.median(nums))\n",
    "\n",
    "# Нахождение медианы средствами pandas\n",
    "import pandas as pd\n",
    "\n",
    "data = {'nums':[1, 2, 3, 4, 5, 6, 7, 8, 9, 10]}\n",
    "df = pd.DataFrame(data)\n",
    "\n",
    "print(df['nums'].median())"
   ]
  },
  {
   "cell_type": "code",
   "execution_count": 11,
   "metadata": {},
   "outputs": [
    {
     "name": "stdout",
     "output_type": "stream",
     "text": [
      "ModeResult(mode=array([2]), count=array([3]))\n"
     ]
    }
   ],
   "source": [
    "# Нахождение моды средствами stats\n",
    "from scipy import stats\n",
    "\n",
    "data = [2, 2, 5, 4, 2, 6, 7, 8, 9, 5]\n",
    "\n",
    "print(stats.mode(data))"
   ]
  },
  {
   "cell_type": "code",
   "execution_count": 12,
   "metadata": {},
   "outputs": [
    {
     "name": "stdout",
     "output_type": "stream",
     "text": [
      "2\n",
      "9\n",
      "2\n",
      "9\n"
     ]
    }
   ],
   "source": [
    "# Нахождение min, max средствами numpy\n",
    "import numpy as np\n",
    "\n",
    "nums = [2, 2, 5, 4, 2, 6, 7, 8, 9, 5]\n",
    "nums_arr = np.array(nums)\n",
    "\n",
    "print(np.min(nums))\n",
    "print(np.max(nums))\n",
    "\n",
    "# Нахождение min, max средствами pandas\n",
    "import pandas as pd\n",
    "\n",
    "data = {'nums':[2, 2, 5, 4, 2, 6, 7, 8, 9, 5]}\n",
    "df = pd.DataFrame(data)\n",
    "\n",
    "print(df['nums'].min())\n",
    "print(df['nums'].max())"
   ]
  },
  {
   "cell_type": "code",
   "execution_count": 13,
   "metadata": {},
   "outputs": [
    {
     "name": "stdout",
     "output_type": "stream",
     "text": [
      "0.25    2.50\n",
      "0.50    5.00\n",
      "0.75    6.75\n",
      "1.00    9.00\n",
      "Name: nums, dtype: float64\n"
     ]
    }
   ],
   "source": [
    "import pandas as pd\n",
    "\n",
    "data = {'nums':[2, 2, 5, 4, 2, 6, 7, 8, 9, 5]}\n",
    "df = pd.DataFrame(data)\n",
    "\n",
    "# Деление на квартили\n",
    "print(df['nums'].quantile([0.25, 0.5, 0.75, 1]))"
   ]
  },
  {
   "cell_type": "markdown",
   "metadata": {},
   "source": [
    "### 4.2. Элементы теории вероятности: дисперсия и стандартное отклонение"
   ]
  },
  {
   "cell_type": "code",
   "execution_count": 14,
   "metadata": {},
   "outputs": [
    {
     "name": "stdout",
     "output_type": "stream",
     "text": [
      "5.8\n",
      "2.4083189157584592\n"
     ]
    }
   ],
   "source": [
    "import numpy as np\n",
    "\n",
    "nums = [2, 2, 5, 4, 2, 6, 7, 8, 9, 5]\n",
    "\n",
    "print(np.var(nums))\n",
    "print(np.std(nums))"
   ]
  },
  {
   "cell_type": "code",
   "execution_count": 15,
   "metadata": {},
   "outputs": [
    {
     "name": "stdout",
     "output_type": "stream",
     "text": [
      "count    10.000000\n",
      "mean      5.000000\n",
      "std       2.538591\n",
      "min       2.000000\n",
      "25%       2.500000\n",
      "50%       5.000000\n",
      "75%       6.750000\n",
      "max       9.000000\n",
      "Name: nums, dtype: float64\n"
     ]
    }
   ],
   "source": [
    "import pandas as pd\n",
    "\n",
    "data = {'nums':[2, 2, 5, 4, 2, 6, 7, 8, 9, 5]}\n",
    "df = pd.DataFrame(data)\n",
    "\n",
    "print(df['nums'].describe())"
   ]
  },
  {
   "cell_type": "code",
   "execution_count": 16,
   "metadata": {},
   "outputs": [
    {
     "name": "stdout",
     "output_type": "stream",
     "text": [
      "two      4\n",
      "one      3\n",
      "three    2\n",
      "Name: nums, dtype: int64\n"
     ]
    }
   ],
   "source": [
    "import pandas as pd\n",
    "\n",
    "data = {'nums':['one', 'two', 'three', 'two', 'one', 'three', 'two', 'one', 'two']}\n",
    "df = pd.DataFrame(data)\n",
    "\n",
    "print(df['nums'].value_counts())"
   ]
  },
  {
   "cell_type": "markdown",
   "metadata": {},
   "source": [
    "### 4.3. Группировка и агрегирование данных"
   ]
  },
  {
   "cell_type": "code",
   "execution_count": 17,
   "metadata": {},
   "outputs": [
    {
     "name": "stdout",
     "output_type": "stream",
     "text": [
      "<pandas.core.groupby.generic.DataFrameGroupBy object at 0x7ff040035340>\n",
      "       height  weight\n",
      "human                \n",
      "man     179.0    74.5\n",
      "woman   165.0    61.0\n"
     ]
    }
   ],
   "source": [
    "import pandas as pd\n",
    "\n",
    "data = {'human':['man', 'woman', 'man', 'man', 'woman', 'man', 'woman', 'man', 'man'],\n",
    "        'height':[178, 165, 190, 174, 160, 180, 170, 182, 170],\n",
    "        'weight':[70, 60, 90, 67, 58, 75, 65, 80, 65]}\n",
    "\n",
    "df = pd.DataFrame(data)\n",
    "\n",
    "print(df.groupby('human'))\n",
    "print(df.groupby('human').mean())"
   ]
  },
  {
   "cell_type": "code",
   "execution_count": 18,
   "metadata": {},
   "outputs": [
    {
     "name": "stdout",
     "output_type": "stream",
     "text": [
      "       min  median  max\n",
      "human                  \n",
      "man    170   179.0  190\n",
      "woman  160   165.0  170\n",
      "       min  median  max\n",
      "human                  \n",
      "man     65    72.5   90\n",
      "woman   58    60.0   65\n"
     ]
    }
   ],
   "source": [
    "import pandas as pd\n",
    "import numpy as np\n",
    "\n",
    "data = {'human':['man', 'woman', 'man', 'man', 'woman', 'man', 'woman', 'man', 'man'],\n",
    "        'height':[178, 165, 190, 174, 160, 180, 170, 182, 170],\n",
    "        'weight':[70, 60, 90, 67, 58, 75, 65, 80, 65]}\n",
    "\n",
    "df = pd.DataFrame(data)\n",
    "\n",
    "print(df.groupby('human')['height'].agg([min, np.median, max]))\n",
    "print(df.groupby('human')['weight'].agg([min, np.median, max]))"
   ]
  },
  {
   "cell_type": "markdown",
   "metadata": {},
   "source": [
    "### 4.4. Взаимосвязь данных"
   ]
  },
  {
   "cell_type": "code",
   "execution_count": 19,
   "metadata": {},
   "outputs": [
    {
     "data": {
      "image/png": "[encoded data removed]",
      "text/plain": [
       "<Figure size 640x480 with 1 Axes>"
      ]
     },
     "metadata": {},
     "output_type": "display_data"
    }
   ],
   "source": [
    "import matplotlib.pyplot as plt\n",
    "import pandas as pd\n",
    "\n",
    "data = {'human':['man', 'woman', 'man', 'man', 'woman', 'man', 'woman', 'man', 'man'],\n",
    "        'height':[178, 165, 190, 174, 160, 180, 170, 182, 170],\n",
    "        'weight':[70, 60, 90, 67, 58, 75, 65, 80, 65]}\n",
    "\n",
    "df = pd.DataFrame(data)\n",
    "plt.scatter(df['height'], df['weight'] , alpha = 0.8)\n",
    "# df.plot(x = 'weight', y = 'height', kind='scatter', grid=True)\n",
    "plt.show()"
   ]
  },
  {
   "cell_type": "code",
   "execution_count": 20,
   "metadata": {},
   "outputs": [
    {
     "name": "stdout",
     "output_type": "stream",
     "text": [
      "0.970201081860922\n",
      "0.970201081860922\n"
     ]
    }
   ],
   "source": [
    "import matplotlib.pyplot as plt\n",
    "import pandas as pd\n",
    "\n",
    "data = {'human':['man', 'woman', 'man', 'man', 'woman', 'man', 'woman', 'man', 'man'],\n",
    "        'height':[178, 165, 190, 174, 160, 180, 170, 182, 170],\n",
    "        'weight':[70, 60, 90, 67, 58, 75, 65, 80, 65]}\n",
    "\n",
    "print(df['height'].corr(df['weight'])) # 0.970201081860922\n",
    "print(df['weight'].corr(df['height'])) # 0.970201081860922"
   ]
  },
  {
   "cell_type": "code",
   "execution_count": 21,
   "metadata": {},
   "outputs": [
    {
     "name": "stdout",
     "output_type": "stream",
     "text": [
      "          height    weight       sex\n",
      "height  1.000000  0.970201 -0.831768\n",
      "weight  0.970201  1.000000 -0.746004\n",
      "sex    -0.831768 -0.746004  1.000000\n"
     ]
    },
    {
     "data": {
      "image/png": "[encoded data removed]",
      "text/plain": [
       "<Figure size 1000x1000 with 9 Axes>"
      ]
     },
     "metadata": {},
     "output_type": "display_data"
    }
   ],
   "source": [
    "import matplotlib.pyplot as plt\n",
    "import pandas as pd\n",
    "\n",
    "data = {'height':[178, 165, 190, 174, 160, 180, 170, 182, 170],\n",
    "        'weight':[70, 60, 90, 67, 58, 75, 65, 80, 65],\n",
    "        'sex':[1, 2, 1, 1, 2, 1, 2, 1, 2]}\n",
    "\n",
    "df = pd.DataFrame(data)\n",
    "\n",
    "pd.plotting.scatter_matrix(df, figsize=(10,10), alpha = 0.8)\n",
    "print(df.corr())\n",
    "plt.show()"
   ]
  },
  {
   "cell_type": "markdown",
   "metadata": {},
   "source": [
    "### 4.5. Проверка гипотезы"
   ]
  },
  {
   "cell_type": "code",
   "execution_count": 22,
   "metadata": {},
   "outputs": [
    {
     "name": "stdout",
     "output_type": "stream",
     "text": [
      "p-значение:  0.003984816227736713\n",
      "Отвергаем гипотезу H0\n",
      "Средний рост:  height    172.68\n",
      "dtype: float64\n"
     ]
    }
   ],
   "source": [
    "from scipy import stats as st\n",
    "import pandas as pd\n",
    "\n",
    "data = {'height':[178, 165, 190, 174, 160, 180, 170, 182, 170, 176, 154, 167, 187, 192, 160, 156, 154, 188, 178]}\n",
    "\n",
    "df = pd.DataFrame(data)\n",
    "  \n",
    "inter_value = 182    # предполагаемый средний рост\n",
    "alpha = .05          # критический уровень статистической значимости 5%\n",
    "    \n",
    "results = st.ttest_1samp(data['height'], inter_value)\n",
    "print('p-значение: ', results.pvalue)\n",
    "    \n",
    "if (results.pvalue < alpha):\n",
    "    print('Отвергаем гипотезу H0')\n",
    "else:\n",
    "    print('Нельзя отвергнуть гипотезу H0')\n",
    "\n",
    "mean_value = df.mean(axis = 0)\n",
    "\n",
    "print('Средний рост: ', mean_value.round(2))"
   ]
  },
  {
   "cell_type": "markdown",
   "metadata": {},
   "source": [
    "## 5. Обработка числовых и категориальных признаков"
   ]
  },
  {
   "cell_type": "markdown",
   "metadata": {},
   "source": [
    "### 5.1. Масштабирование признаков"
   ]
  },
  {
   "cell_type": "code",
   "execution_count": 23,
   "metadata": {},
   "outputs": [
    {
     "name": "stdout",
     "output_type": "stream",
     "text": [
      "До масштабирования:    [[-1.  -1.5  2.   3.5  8. ]]\n",
      "После масштабирования: [[0.1  0.05 0.4  0.55 1.  ]]\n",
      "min: -2.0 max: 8.0\n",
      "min: 0.0 max: 1.0\n"
     ]
    }
   ],
   "source": [
    "import numpy as np\n",
    "from sklearn import preprocessing\n",
    "\n",
    "# Создать признак\n",
    "X_data = np.array([[-1.0], [-1.5], [2.0], [3.5], [8.0],\n",
    "                   [5.0], [-2.0], [2.5], [3.5], [6.0]])\n",
    "\n",
    "# Создание экземпляра класса MinMaxScaler(), диапазон {0,1}\n",
    "minmax_scaler = preprocessing.MinMaxScaler(feature_range=(0,1))\n",
    "\n",
    "# Масштабирование признака\n",
    "X_data_scaled = minmax_scaler.fit_transform(X_data)\n",
    "\n",
    "# Данные до и после масштабирования\n",
    "print('До масштабирования:   ', X_data[:5].T)\n",
    "print('После масштабирования:',  X_data_scaled[:5].T)\n",
    "\n",
    "# Min и Max значения до и после масштабирования\n",
    "print('min:', X_data.min(), 'max:', X_data.max())\n",
    "print('min:', X_data_scaled.min(), 'max:', X_data_scaled.max())"
   ]
  },
  {
   "cell_type": "markdown",
   "metadata": {},
   "source": [
    "### 5.2. Стандартизация признаков"
   ]
  },
  {
   "cell_type": "code",
   "execution_count": 24,
   "metadata": {},
   "outputs": [
    {
     "name": "stdout",
     "output_type": "stream",
     "text": [
      "До стандартизации:    [[10.  -1.5  2.   3.   4. ]]\n",
      "После стандартизации: [[0.1  0.05 0.4  0.55 1.  ]]\n",
      "Среднее: 0\n",
      "Стандартное отклонение: 1.0\n"
     ]
    }
   ],
   "source": [
    "import numpy as np\n",
    "from sklearn import preprocessing\n",
    "\n",
    "# Создать признак\n",
    "X_data = np.array([[10.0], [-1.5], [2.0], [3.0], [4.0],\n",
    "                   [3.0], [-5.0], [2.5], [3.5], [2.0]])\n",
    "\n",
    "# Создание экземпляра класса StandardScaler()\n",
    "standard = preprocessing.StandardScaler()\n",
    "\n",
    "# Стандартизация признака признака\n",
    "X_data_standard = standard.fit_transform(X_data)\n",
    "\n",
    "# Данные до и после стандартизации\n",
    "print('До стандартизации:   ', X_data[:5].T)\n",
    "print('После стандартизации:',  X_data_scaled[:5].T)\n",
    "\n",
    "# Данные до и после стандартизации\n",
    "print('Среднее:', round(X_data_standard.mean()))\n",
    "print('Стандартное отклонение:', X_data_standard.std())"
   ]
  },
  {
   "cell_type": "markdown",
   "metadata": {},
   "source": [
    "### 5.3. Нормализация данных"
   ]
  },
  {
   "cell_type": "code",
   "execution_count": 25,
   "metadata": {},
   "outputs": [
    {
     "name": "stdout",
     "output_type": "stream",
     "text": [
      "[[0.81373347 0.58123819]\n",
      " [0.47222141 0.88147997]\n",
      " [0.07405353 0.99725427]\n",
      " [0.09427521 0.99554617]\n",
      " [0.79298335 0.60924331]]\n",
      "[[0.58333333 0.41666667]\n",
      " [0.34883721 0.65116279]\n",
      " [0.06912442 0.93087558]\n",
      " [0.08650519 0.91349481]\n",
      " [0.56551724 0.43448276]]\n"
     ]
    }
   ],
   "source": [
    "import numpy as np\n",
    "from sklearn.preprocessing import Normalizer\n",
    "\n",
    "# Матрица признаков\n",
    "X_data = np.array([[0.7,  0.5],\n",
    "                   [1.5,  2.8],\n",
    "                   [1.5,  20.2],\n",
    "                   [2.5,  26.4], \n",
    "                   [8.2,  6.3]])\n",
    "\n",
    "# Создание экземпляра класса Normalizer()\n",
    "# L-квадрат норма (евклидова норма)\n",
    "# L^2 = sqrt(x1^2 + x2^2 ... xn^2) = 1\n",
    "\n",
    "normalizer = Normalizer(norm=\"l2\")\n",
    "X_norm_l2 = normalizer.transform(X_data)\n",
    "\n",
    "# Преобразовать матрицу признаков\n",
    "print(X_norm_l2)\n",
    "\n",
    "# L' норма (манхэтеннская норма)\n",
    "# L' = x1 + x2 ... xn = 1\n",
    "\n",
    "normalizer = Normalizer(norm=\"l1\")\n",
    "X_norm_l1 = normalizer.transform(X_data)\n",
    "\n",
    "# Преобразовать матрицу признаков\n",
    "print(X_norm_l1)"
   ]
  },
  {
   "cell_type": "markdown",
   "metadata": {},
   "source": [
    "### 5.4. Генерация полиномиальных признаков"
   ]
  },
  {
   "cell_type": "code",
   "execution_count": 26,
   "metadata": {},
   "outputs": [
    {
     "data": {
      "text/plain": [
       "array([[ 1.,  0.,  1.,  0.,  0.,  1.],\n",
       "       [ 1.,  2.,  3.,  4.,  6.,  9.],\n",
       "       [ 1.,  4.,  5., 16., 20., 25.]])"
      ]
     },
     "execution_count": 26,
     "metadata": {},
     "output_type": "execute_result"
    }
   ],
   "source": [
    "import numpy as np\n",
    "from sklearn.preprocessing import PolynomialFeatures\n",
    "\n",
    "# Матрица признаков\n",
    "X_data = np.array([[0, 1],\n",
    "                   [2, 3],\n",
    "                   [4, 5]])\n",
    "\n",
    "# Создание экземпляра класса PolynomialFeatures\n",
    "polynom_data = PolynomialFeatures(degree=2, interaction_only=False)\n",
    "\n",
    "# Создать новую матрицу признаков\n",
    "polynom_data.fit_transform(X_data)\n",
    "\n",
    "# out -> [1, x1, x2, x1^2, x1*x2, x2^2]"
   ]
  },
  {
   "cell_type": "markdown",
   "metadata": {},
   "source": [
    "### 5.5. Преобразование признаков"
   ]
  },
  {
   "cell_type": "code",
   "execution_count": 27,
   "metadata": {},
   "outputs": [
    {
     "data": {
      "text/plain": [
       "array([[  0,   1,   9],\n",
       "       [  9,  16,  25],\n",
       "       [100,  49,  64],\n",
       "       [  4,  25, 100]])"
      ]
     },
     "execution_count": 27,
     "metadata": {},
     "output_type": "execute_result"
    }
   ],
   "source": [
    "import numpy as np\n",
    "import pandas as pd\n",
    "import matplotlib.pyplot as plt\n",
    "from sklearn.preprocessing import FunctionTransformer\n",
    "\n",
    "# Матрица признаков\n",
    "X_data = np.array([[0, 1, 3],\n",
    "                   [3, 4, 5],\n",
    "                   [10, 7, 8],\n",
    "                   [2, 5, 10]])\n",
    "\n",
    "# Функция для обработки данных\n",
    "def transform_func(row):\n",
    "    return row**2\n",
    "\n",
    "# Создание экземпляра класса FunctionTransformer()\n",
    "transform_data = FunctionTransformer(transform_func)\n",
    "\n",
    "# Создать новую матрицу признаков\n",
    "transform_data.transform(X_data)"
   ]
  },
  {
   "cell_type": "code",
   "execution_count": 28,
   "metadata": {},
   "outputs": [],
   "source": [
    "# Создание датафрейма и использование метода apply()\n",
    "df = pd.DataFrame(X_data)\n",
    "\n",
    "df_new = df.apply(transform_func)\n",
    "df_new.rename(columns=lambda x: 'feature_' + str(x), inplace=True)"
   ]
  },
  {
   "cell_type": "markdown",
   "metadata": {},
   "source": [
    "### 5.6. Анализ выбросов"
   ]
  },
  {
   "cell_type": "code",
   "execution_count": null,
   "metadata": {},
   "outputs": [],
   "source": [
    "# Использование метода describe()\n",
    "df_new.describe()"
   ]
  },
  {
   "cell_type": "code",
   "execution_count": 29,
   "metadata": {},
   "outputs": [
    {
     "data": {
      "text/plain": [
       "25%     3.00\n",
       "75%    31.75\n",
       "Name: feature_0, dtype: float64"
      ]
     },
     "execution_count": 29,
     "metadata": {},
     "output_type": "execute_result"
    }
   ],
   "source": [
    "# Вывод 25-го и 75-го перцентиля данных\n",
    "df_new.describe()['feature_0'][['25%','75%']]"
   ]
  },
  {
   "cell_type": "code",
   "execution_count": 30,
   "metadata": {},
   "outputs": [
    {
     "name": "stdout",
     "output_type": "stream",
     "text": [
      "25-й перцентиль: 3.0, 75-й перцентиль: 31.75, IQR: 28.75,  Границы выбросов: [-40.125, 74.875].\n"
     ]
    }
   ],
   "source": [
    "q1 = df_new.feature_0.quantile(0.25)  # 25-й перцентиль\n",
    "q3 = df_new.feature_0.quantile(0.75)  # 75-й перцентиль\n",
    "iqr = q3 - q1                         # межквартильный размах\n",
    "lower_bound = q1 - (iqr*1.5)          # нижняя граница выбросов\n",
    "upper_bound = q3 + (iqr*1.5)          # верхняя граница выбросов\n",
    " \n",
    "print('25-й перцентиль: {},'.format(q1),\n",
    "      '75-й перцентиль: {},'.format(q3),\n",
    "      \"IQR: {}, \".format(iqr),\n",
    "      \"Границы выбросов: [{lb}, {ub}].\".format(lb=lower_bound, ub=upper_bound))"
   ]
  },
  {
   "cell_type": "code",
   "execution_count": 31,
   "metadata": {},
   "outputs": [],
   "source": [
    "mean_value = df_new['feature_0'].mean()\n",
    "\n",
    "def del_outliers(row):\n",
    "    if row > upper_bound or row < lower_bound:\n",
    "        return mean_value\n",
    "    else:\n",
    "        return row\n",
    "    \n",
    "df_new['feature_3'] = df_new['feature_0'].apply(del_outliers)"
   ]
  },
  {
   "cell_type": "code",
   "execution_count": 32,
   "metadata": {},
   "outputs": [
    {
     "data": {
      "image/png": "[encoded data removed]",
      "text/plain": [
       "<Figure size 1500x400 with 2 Axes>"
      ]
     },
     "metadata": {},
     "output_type": "display_data"
    },
    {
     "data": {
      "image/png": "[encoded data removed]",
      "text/plain": [
       "<Figure size 1500x400 with 2 Axes>"
      ]
     },
     "metadata": {},
     "output_type": "display_data"
    }
   ],
   "source": [
    "import seaborn as sns\n",
    "from scipy import stats\n",
    "\n",
    "norm_rv = stats.norm(loc=30, scale=5)\n",
    "samples = np.trunc(norm_rv.rvs(365))\n",
    "\n",
    "fig, axes = plt.subplots(nrows=1, ncols=2, figsize=(15, 4))\n",
    "fig.suptitle('Распределение признака feature_0')\n",
    "histplot = sns.histplot(x=samples, ax=axes[0])\n",
    "boxplot = sns.boxplot(x=samples, ax=axes[1])\n",
    "\n",
    "fig, axes = plt.subplots(nrows=1, ncols=2, figsize=(15, 4))\n",
    "fig.suptitle('Распределение признака feature_3')\n",
    "histplot = sns.histplot(x=samples, ax=axes[0])\n",
    "boxplot = sns.boxplot(x=samples, ax=axes[1])"
   ]
  },
  {
   "cell_type": "code",
   "execution_count": 33,
   "metadata": {},
   "outputs": [],
   "source": [
    "# Создание признака на основе булева условия\n",
    "df_new['feature_4'] = np.where(df_new['feature_1'] < 20,  0,  1)\n",
    "\n",
    "# Логарифмирование признака\n",
    "df_new['feature_5'] = [np.log(х) for х in df_new['feature_2']]"
   ]
  },
  {
   "cell_type": "markdown",
   "metadata": {},
   "source": [
    "### 5.7. Дискретизация признаков"
   ]
  },
  {
   "cell_type": "code",
   "execution_count": null,
   "metadata": {},
   "outputs": [],
   "source": [
    "import numpy as np\n",
    "from sklearn.preprocessing import Binarizer\n",
    "\n",
    "# Создать признак\n",
    "X_data = np.array([[1], [10], [100], [1000]])\n",
    "\n",
    "# Создание экземпляра класса Binarizer()\n",
    "binarizer = Binarizer(50)                # порого бинаризации = 50\n",
    "\n",
    "# Бинаризация признака\n",
    "X_binar = binarizer.fit_transform(X_data)\n",
    "print(X_binar.T)"
   ]
  },
  {
   "cell_type": "code",
   "execution_count": null,
   "metadata": {},
   "outputs": [],
   "source": [
    "import numpy as np\n",
    "from sklearn.preprocessing import Binarizer\n",
    "\n",
    "# Создать признак\n",
    "X_data = np.array([[1], [10], [100], [1000]])\n",
    "\n",
    "# Создание экземпляра класса Binarizer()\n",
    "binarizer = Binarizer(50)                # порого бинаризации = 50\n",
    "\n",
    "# Бинаризация признака\n",
    "X_binar = binarizer.fit_transform(X_data)\n",
    "print(X_binar.T)"
   ]
  },
  {
   "cell_type": "markdown",
   "metadata": {},
   "source": [
    "### 5.8. Работа с пропущенными данными"
   ]
  },
  {
   "cell_type": "code",
   "execution_count": 35,
   "metadata": {},
   "outputs": [
    {
     "data": {
      "text/plain": [
       "feature_1    1\n",
       "feature_2    2\n",
       "feature_3    2\n",
       "dtype: int64"
      ]
     },
     "execution_count": 35,
     "metadata": {},
     "output_type": "execute_result"
    }
   ],
   "source": [
    "import pandas as pd \n",
    "import numpy as np\n",
    "import seaborn as sns\n",
    "import matplotlib.pyplot as plt\n",
    "\n",
    "# Создание списка с пропущенными данными\n",
    "numbers = [[1, 8, np.nan], \n",
    "           [2, np.nan, 16], \n",
    "           [np.nan, 10, 17],\n",
    "           [7, np.nan, 18], \n",
    "           [5, 12, np.nan]] \n",
    " \n",
    "header = ['feature_1', 'feature_2', 'feature_3'] \n",
    "\n",
    "# Создание датафрейма\n",
    "df = pd.DataFrame(data = numbers, columns = header)\n",
    "\n",
    "# Подсчёт пропущенных значений в датафрейме\n",
    "df.isnull().sum()"
   ]
  },
  {
   "cell_type": "code",
   "execution_count": 36,
   "metadata": {},
   "outputs": [
    {
     "data": {
      "image/png": "[encoded data removed]",
      "text/plain": [
       "<Figure size 600x400 with 2 Axes>"
      ]
     },
     "metadata": {},
     "output_type": "display_data"
    }
   ],
   "source": [
    "# Визуализация пропусков\n",
    "plt.figure(figsize=(6,4))\n",
    "sns.heatmap(df.isna().transpose(),\n",
    "            cmap=\"YlGnBu\",\n",
    "            cbar_kws={'label': 'Пропущенные данные'})\n",
    "plt.show()"
   ]
  },
  {
   "cell_type": "code",
   "execution_count": 37,
   "metadata": {},
   "outputs": [],
   "source": [
    "# Замена пропусков\n",
    "\n",
    "feat_1_mean = df['feature_1'].mean()                  # расчёт среднего\n",
    "feat_2_median = df['feature_2'].median()              # расчёт медианы\n",
    "feat_3_mode = df['feature_3'].mode()                  # расчёт моды\n",
    "\n",
    "df['feature_1'].fillna(feat_1_mean, inplace=True)     # замена пропусков на среднее\n",
    "df['feature_2'].fillna(feat_2_median, inplace=True)   # замена пропусков на медиану\n",
    "df['feature_3'].fillna(feat_3_mode[0], inplace=True)  # замена пропусков на моду"
   ]
  },
  {
   "cell_type": "code",
   "execution_count": 38,
   "metadata": {},
   "outputs": [
    {
     "name": "stdout",
     "output_type": "stream",
     "text": [
      "Импутированное значение: 16.0\n"
     ]
    }
   ],
   "source": [
    "# Импутация признаков\n",
    "from sklearn.impute import SimpleImputer\n",
    "\n",
    "X_data = np.array(numbers)\n",
    "\n",
    "# Создание экземпляра класса SimpleImputer()\n",
    "mean_imputer = SimpleImputer(missing_values=np.nan, strategy='most_frequent')\n",
    "\n",
    "# Импутация значений\n",
    "mean_imputed = mean_imputer.fit_transform(X_data)\n",
    "\n",
    "print(\"Импутированное значение:\",  mean_imputed[0,2])"
   ]
  },
  {
   "cell_type": "markdown",
   "metadata": {},
   "source": [
    "### 5.9. Кодирование номинальных категориальных признаков"
   ]
  },
  {
   "cell_type": "code",
   "execution_count": 39,
   "metadata": {},
   "outputs": [
    {
     "data": {
      "text/plain": [
       "array([[0, 1, 0],\n",
       "       [1, 0, 0],\n",
       "       [0, 1, 0],\n",
       "       [0, 0, 1],\n",
       "       [0, 1, 0]])"
      ]
     },
     "execution_count": 39,
     "metadata": {},
     "output_type": "execute_result"
    }
   ],
   "source": [
    "import pandas as pd\n",
    "import numpy as np\n",
    "from sklearn.preprocessing import LabelBinarizer, MultiLabelBinarizer\n",
    "\n",
    "# Создание признака\n",
    "X_data = np.array([['pressure'],\n",
    "                   ['gas'],\n",
    "                   ['pressure'],\n",
    "                   ['temp'],\n",
    "                   ['pressure']])\n",
    "\n",
    "# Создание экземпляра класса LabelBinarizer()\n",
    "one_hot = LabelBinarizer()\n",
    "\n",
    "# Кодирование признака\n",
    "one_hot.fit_transform(X_data)"
   ]
  },
  {
   "cell_type": "code",
   "execution_count": 40,
   "metadata": {},
   "outputs": [
    {
     "name": "stderr",
     "output_type": "stream",
     "text": [
      "/tmp/ipykernel_5573/3191642050.py:2: VisibleDeprecationWarning: Creating an ndarray from ragged nested sequences (which is a list-or-tuple of lists-or-tuples-or ndarrays with different lengths or shapes) is deprecated. If you meant to do this, you must specify 'dtype=object' when creating the ndarray.\n",
      "  X_data_mult = np.array([['pressure','humidity'],\n"
     ]
    },
    {
     "data": {
      "text/plain": [
       "array([[0, 1, 1, 0],\n",
       "       [1, 0, 1, 1],\n",
       "       [0, 1, 1, 0],\n",
       "       [0, 0, 1, 1],\n",
       "       [0, 1, 1, 0]])"
      ]
     },
     "execution_count": 40,
     "metadata": {},
     "output_type": "execute_result"
    }
   ],
   "source": [
    "\n",
    "# Создание мультипризнака\n",
    "X_data_mult = np.array([['pressure','humidity'],\n",
    "                        ['gas','pressure', 'temp'],\n",
    "                        ['pressure','humidity'],\n",
    "                        ['temp','pressure'],\n",
    "                        ['pressure','humidity']])\n",
    "\n",
    "# Создание экземпляра класса MultiLabelBinarizer()\n",
    "one_hot = MultiLabelBinarizer()\n",
    "\n",
    "# Кодирование признака\n",
    "one_hot.fit_transform(X_data_mult)"
   ]
  },
  {
   "cell_type": "code",
   "execution_count": 41,
   "metadata": {},
   "outputs": [
    {
     "data": {
      "text/html": [
       "<div>\n",
       "<style scoped>\n",
       "    .dataframe tbody tr th:only-of-type {\n",
       "        vertical-align: middle;\n",
       "    }\n",
       "\n",
       "    .dataframe tbody tr th {\n",
       "        vertical-align: top;\n",
       "    }\n",
       "\n",
       "    .dataframe thead th {\n",
       "        text-align: right;\n",
       "    }\n",
       "</style>\n",
       "<table border=\"1\" class=\"dataframe\">\n",
       "  <thead>\n",
       "    <tr style=\"text-align: right;\">\n",
       "      <th></th>\n",
       "      <th>gas</th>\n",
       "      <th>pressure</th>\n",
       "      <th>temp</th>\n",
       "    </tr>\n",
       "  </thead>\n",
       "  <tbody>\n",
       "    <tr>\n",
       "      <th>0</th>\n",
       "      <td>0</td>\n",
       "      <td>1</td>\n",
       "      <td>0</td>\n",
       "    </tr>\n",
       "    <tr>\n",
       "      <th>1</th>\n",
       "      <td>1</td>\n",
       "      <td>0</td>\n",
       "      <td>0</td>\n",
       "    </tr>\n",
       "    <tr>\n",
       "      <th>2</th>\n",
       "      <td>0</td>\n",
       "      <td>1</td>\n",
       "      <td>0</td>\n",
       "    </tr>\n",
       "    <tr>\n",
       "      <th>3</th>\n",
       "      <td>0</td>\n",
       "      <td>0</td>\n",
       "      <td>1</td>\n",
       "    </tr>\n",
       "    <tr>\n",
       "      <th>4</th>\n",
       "      <td>0</td>\n",
       "      <td>1</td>\n",
       "      <td>0</td>\n",
       "    </tr>\n",
       "  </tbody>\n",
       "</table>\n",
       "</div>"
      ],
      "text/plain": [
       "   gas  pressure  temp\n",
       "0    0         1     0\n",
       "1    1         0     0\n",
       "2    0         1     0\n",
       "3    0         0     1\n",
       "4    0         1     0"
      ]
     },
     "execution_count": 41,
     "metadata": {},
     "output_type": "execute_result"
    }
   ],
   "source": [
    "# Кодирование признака и создание датафрейма\n",
    "pd.get_dummies(X_data[:,0])"
   ]
  },
  {
   "cell_type": "code",
   "execution_count": 42,
   "metadata": {},
   "outputs": [
    {
     "data": {
      "text/plain": [
       "numpy.int64"
      ]
     },
     "execution_count": 42,
     "metadata": {},
     "output_type": "execute_result"
    }
   ],
   "source": [
    "import pandas as pd \n",
    "import numpy as np\n",
    "from sklearn.preprocessing import OrdinalEncoder, LabelEncoder, OneHotEncoder\n",
    "\n",
    "# Создание словаря\n",
    "data = {'temp': ['high', 'low', 'high', 'low'], \n",
    "        'size': ['small', 'big', 'big', 'medium'], \n",
    "        'pressure': ['isobar','isochor','isother','isochor']}\n",
    "\n",
    "# Создание датафрейма\n",
    "df = pd.DataFrame(data = data)\n",
    "\n",
    "# Создание экземпляра класса OrdinalEncoder()\n",
    "ord_enc = OrdinalEncoder()\n",
    "\n",
    "# Кодирование признака\n",
    "df['pressure_ordinal'] = ord_enc.fit_transform(df[['pressure']])\n",
    "\n",
    "# Создание экземпляра класса LabelEncoder()\n",
    "lab_enc = LabelEncoder()\n",
    "\n",
    "# Кодирование признака\n",
    "df['pressure_label'] = lab_enc.fit_transform(df['pressure'])\n",
    "\n",
    "# Создание экземпляра класса OneHotEncoder()\n",
    "ohe_enc = OneHotEncoder()\n",
    "# Кодирование признака\n",
    "ohe_res = ohe_enc.fit_transform(df[['pressure']])\n",
    "\n",
    "ohe_df = pd.DataFrame(ohe_res.toarray(), columns=list(*ohe_enc.categories_))\n",
    "df = pd.concat([df, ohe_df], axis=1)\n",
    "\n",
    "# OHE с использованием библиотеки pandas\n",
    "pd.get_dummies(df, columns=['size','temp'], prefix=['size','temp'])\n",
    "\n",
    "# Проверка типа данных\n",
    "type(df['pressure_ordinal'].iloc[2])\n",
    "type(df['pressure_label'].iloc[2])"
   ]
  },
  {
   "cell_type": "code",
   "execution_count": null,
   "metadata": {},
   "outputs": [],
   "source": [
    "import category_encoders as ce\n",
    "\n",
    "# Создание экземпляра класса OrdinalEncoder()\n",
    "ord_enc = ce.OrdinalEncoder()\n",
    "data_ord = ord_enc.fit_transform(df['size'])\n",
    "df = pd.concat([df, data_ord], axis=1)\n",
    "\n",
    "# Создание экземпляра класса OneHotEncoder()\n",
    "ohe_enc = ce.OneHotEncoder(cols=['pressure'])\n",
    "data_ohe = ohe_enc.fit_transform(df['pressure'])\n",
    "df = pd.concat([df, data_ohe], axis=1)\n",
    "\n",
    "# Создание экземпляра класса BinaryEncoder()\n",
    "bin_enc = ce.BinaryEncoder(cols=['pressure'])\n",
    "data_bin = bin_enc.fit_transform(data['pressure'])\n",
    "df = pd.concat([df, data_bin], axis=1)"
   ]
  },
  {
   "cell_type": "markdown",
   "metadata": {},
   "source": [
    "### 5.10. Кодирование порядковых категориальных признаков"
   ]
  },
  {
   "cell_type": "code",
   "execution_count": 44,
   "metadata": {},
   "outputs": [],
   "source": [
    "# Замена порядковых категориальных признаков методом replace()\n",
    "\n",
    "import pandas as pd \n",
    "\n",
    "# Создание словаря\n",
    "data = {'temp': ['high', 'low', 'high', 'middle'], \n",
    "        'size': ['small', 'big', 'big', 'medium'], \n",
    "        'pressure': ['isobar','isochor','isother','isochor']}\n",
    "\n",
    "# Создание датафрейма\n",
    "df = pd.DataFrame(data = data)\n",
    "\n",
    "scale_rep =  {'small': 1, 'medium': 2, 'big': 3}\n",
    "df['size'] = df['size'].replace(scale_rep)\n",
    "\n",
    "# Замена признаков с использованием вложенных словарей\n",
    "scale_rdic =  {'temp': {'low': 1, 'middle': 2, 'high': 3}}\n",
    "df = df.replace(scale_rdic)\n",
    "\n",
    "# Замена порядковых категориальных признаков методом map()\n",
    "scale_map =  {'isochor': 1, 'isother': 2, 'isobar': 3}\n",
    "df['pressure'] = df['pressure'].map(scale_map)"
   ]
  },
  {
   "cell_type": "markdown",
   "metadata": {},
   "source": [
    "### 5.11. Кодирование словарей признаков"
   ]
  },
  {
   "cell_type": "code",
   "execution_count": 45,
   "metadata": {},
   "outputs": [
    {
     "name": "stderr",
     "output_type": "stream",
     "text": [
      "/home/alex/anaconda3/lib/python3.9/site-packages/sklearn/utils/deprecation.py:87: FutureWarning: Function get_feature_names is deprecated; get_feature_names is deprecated in 1.0 and will be removed in 1.2. Please use get_feature_names_out instead.\n",
      "  warnings.warn(msg, category=FutureWarning)\n"
     ]
    },
    {
     "data": {
      "text/plain": [
       "(array([[2., 5., 0.],\n",
       "        [4., 3., 0.],\n",
       "        [3., 0., 2.],\n",
       "        [2., 0., 4.]]),\n",
       " ['high', 'low', 'middle'])"
      ]
     },
     "execution_count": 45,
     "metadata": {},
     "output_type": "execute_result"
    }
   ],
   "source": [
    "# Создание массива категориальных признаков на основе словарей\n",
    "\n",
    "from sklearn.feature_extraction import DictVectorizer\n",
    "\n",
    "# Создание словаря с данными\n",
    "data_dict =  [{'high': 2,  'low':  5},\n",
    "              {'high': 4,  'low':  3},\n",
    "              {'high': 3,  'middle': 2},\n",
    "              {'high': 2,  'middle': 4}]\n",
    "               \n",
    "# Создание экземпляра класса DictVectorizer()\n",
    "dictvec = DictVectorizer(sparse=False)\n",
    "\n",
    "# Кодировка признаков\n",
    "features = dictvec.fit_transform(data_dict)\n",
    "\n",
    "# Матрица признаков и названия признаков\n",
    "feature_names = dictvec.get_feature_names()\n",
    "\n",
    "# если sparse=True, то features.toarray()\n",
    "features, feature_names"
   ]
  },
  {
   "cell_type": "markdown",
   "metadata": {},
   "source": [
    "### 5.12. Категориальные переменные"
   ]
  },
  {
   "cell_type": "code",
   "execution_count": 46,
   "metadata": {},
   "outputs": [
    {
     "data": {
      "image/png": "[encoded data removed]",
      "text/plain": [
       "<Figure size 640x480 with 1 Axes>"
      ]
     },
     "metadata": {},
     "output_type": "display_data"
    }
   ],
   "source": [
    "import pandas as pd\n",
    "import numpy as np\n",
    "import seaborn as sns\n",
    "import matplotlib.pyplot as plt\n",
    "\n",
    "# Создание датафрейма на основе генерации случайных чисел\n",
    "df = pd.DataFrame({'value': np.random.randint(0, 100, 1000)})\n",
    "\n",
    "# Создание меток категориий\n",
    "labels = ['{0} - {1}'.format(i, i + 9) for i in range(0, 100, 10)]\n",
    "# Создание признака категорий\n",
    "df['value_group'] = pd.cut(df.value, range(0, 105, 10), right=False, labels=labels)\n",
    "\n",
    "sns.countplot(x='value_group', data=df)\n",
    "plt.show()"
   ]
  },
  {
   "cell_type": "markdown",
   "metadata": {},
   "source": [
    "## 6. Исследовательский анализ данных и машинное обучение\n",
    "### 6.1. Проверка мультиколлинеарности и отбор признаков\n",
    "\n",
    "https://scikit-learn.ru/user_guide/"
   ]
  },
  {
   "cell_type": "code",
   "execution_count": null,
   "metadata": {},
   "outputs": [],
   "source": [
    "import pandas as pd\n",
    "import seaborn as sns\n",
    "iris = pd.read_csv('iris.csv')\n",
    "\n",
    "print(iris['species'].value_counts())\n",
    "\n",
    "import pandas as pd\n",
    "import seaborn as sns\n",
    "import matplotlib.pyplot as plt\n",
    "\n",
    "iris = pd.read_csv('iris.csv')\n",
    "\n",
    "plt.rcParams['figure.figsize'] = (10,10)\n",
    "sns.heatmap(iris.drop(['species'], axis=1).corr(), annot=True)\n",
    "plt.show()"
   ]
  },
  {
   "cell_type": "code",
   "execution_count": null,
   "metadata": {},
   "outputs": [],
   "source": [
    "import pandas as pd\n",
    "import seaborn as sns\n",
    "import matplotlib.pyplot as plt\n",
    "from itertools import compress\n",
    "from sklearn.feature_selection import SelectKBest, f_classif\n",
    "from sklearn.model_selection import train_test_split \n",
    "\n",
    "iris = pd.read_csv('iris.csv')\n",
    "\n",
    "X = iris.drop(['species'], axis=1)\n",
    "y = iris['species']\n",
    " \n",
    "X_train, X_test, y_train, y_test = train_test_split(X, y, stratify=y, random_state = 42, test_size = 0.33)\n",
    "skb = SelectKBest(f_classif, k=2).fit(X_train, y_train)\n",
    "mask = skb.get_support()\n",
    "name_col = X_train.columns.values\n",
    "result = list(compress(name_col, mask))\n",
    "score_skb = skb.scores_\n",
    "\n",
    "plt.bar(result, score_skb)\n",
    "plt.show()"
   ]
  },
  {
   "cell_type": "markdown",
   "metadata": {},
   "source": [
    "### 6.2. Регрессионный анализ\n",
    "\n",
    "http://localhost:8888/notebooks/Документы/IDE/МАШИННОЕ%20ОБУЧЕНИЕ/ML-%203.1%20Логистическая%20регрессия%2Cдеревья%20решений%20в%20SKLEARN.ipynb"
   ]
  },
  {
   "cell_type": "code",
   "execution_count": null,
   "metadata": {},
   "outputs": [],
   "source": [
    "# логистическая регрессия\n",
    "\n",
    "# Будем использовать стохастический градиентный спуск,поэтому данные должны быть нормализованы,проводим стандартиз\n",
    "scaler = preprocessing.MinMaxScaler()\n",
    "scaler.fit(X_train)\n",
    "X_train_scaled = scaler.transform(X_train)\n",
    "X_test_scaled = scaler.transform(X_test)\n",
    "\n",
    "# обучите логистическую регрессию и рассчитайте метрики качества\n",
    "\n",
    "#Создаем объект класса логистическая регрессия\n",
    "log_reg = linear_model.LogisticRegression(random_state=42,solver = 'sag',max_iter=1000)\n",
    "#Обучаем модель, минимизируя logloss\n",
    "log_reg.fit(X_train_scaled, y_train)\n",
    "#Делаем предсказание для тренировочной выборки с помощью predict\n",
    "y_train_pred = log_reg.predict(X_train_scaled)\n",
    "#Вывод отчет о метриках классификации\n",
    "print('F1 тренировочный: {:.2f}'.format(metrics.f1_score(y_train, y_train_pred)))\n",
    "#Делаем предсказание для тестовой выборки\n",
    "y_test_pred = log_reg.predict(X_test_scaled)\n",
    "#Вывод отчет о метриках классификации\n",
    "print('F1 тестовый: {:.2f}'.format(metrics.f1_score(y_test, y_test_pred)))\n",
    "print('Accuracy тестовый: {:.2f}'.format(metrics.accuracy_score(y_test, y_test_pred)))\n",
    "print('Precision тестовый: {:.2f}'.format(metrics.precision_score(y_test, y_test_pred)))\n",
    "print('Recall тестовый: {:.2f}'.format(metrics.recall_score(y_test, y_test_pred)))"
   ]
  },
  {
   "cell_type": "code",
   "execution_count": null,
   "metadata": {},
   "outputs": [],
   "source": [
    "# используйте для классификации градиентный бустинг  задача классификации\n",
    "# используйте для классификации градиентный бустинг и сравните качество со случайным лесом\n",
    "from sklearn.ensemble import GradientBoostingClassifier\n",
    "\n",
    "gb = ensemble.GradientBoostingClassifier(\n",
    "    learning_rate=0.05,\n",
    "    n_estimators=300,\n",
    "    min_samples_leaf=5,\n",
    "    max_depth=5,\n",
    "    random_state=42\n",
    ")\n",
    "gb.fit(X_train_scaled, y_train)\n",
    "\n",
    "#Делаем предсказание класса\n",
    "y_pred = gb.predict(X_test_scaled)\n",
    "\n",
    "#Выводим отчёт о метриках\n",
    "print(metrics.classification_report(y_test, y_pred))"
   ]
  },
  {
   "cell_type": "code",
   "execution_count": null,
   "metadata": {},
   "outputs": [],
   "source": [
    "# обучите решающие деревья, настройте максимальную глубину\n",
    "#Создаём объект класса DecisionTreeClassifier\n",
    "dt = tree.DecisionTreeClassifier(\n",
    "    criterion='entropy',\n",
    "    random_state=42,\n",
    "    max_depth = 6\n",
    ")\n",
    "#Обучаем дерево решений по алгоритму CART\n",
    "dt.fit(X_train_scaled, y_train)\n",
    "\n",
    "#Делаем предсказание класса для всего набора данных\n",
    "y_pred_train = dt.predict(X_train_scaled)\n",
    "y_pred_test = dt.predict(X_test_scaled)\n",
    "#Выводим отчёт о метриках классификации\n",
    "print(metrics.classification_report(y_test, y_pred_test))"
   ]
  },
  {
   "cell_type": "code",
   "execution_count": null,
   "metadata": {},
   "outputs": [],
   "source": [
    "# Подключение класса LinearRegression из модуля scikit-learn\n",
    "from sklearn.linear_model import LinearRegression\n",
    "\n",
    "# Подключение train_test_split из модуля scikit-learn\n",
    "from sklearn.model_selection import train_test_split\n",
    "\n",
    "# Подключение библиотеки matplotlib\n",
    "import matplotlib.pyplot as plt\n",
    "\n",
    "# Подключение библиотек numpy и pandas\n",
    "import numpy as np\n",
    "import pandas as pd\n",
    "\n",
    "df = pd.read_excel('temp_around.xlsx')\n",
    "\n",
    "X = df[['temp_ground']] # строго двойные кв. скобки\n",
    "Y = df['temp_air']"
   ]
  },
  {
   "cell_type": "code",
   "execution_count": null,
   "metadata": {},
   "outputs": [],
   "source": [
    "X = df.drop(['deposit'], axis=1)\n",
    "y = df['deposit']\n",
    "\n",
    "# Разбиение данных на два подмножества: для обучения и тестирования (Train-Test Split)\n",
    "X_train, X_test, Y_train, Y_test = train_test_split(X, y, stratify=y, random_state = 42, test_size = 0.33)\n",
    "\n",
    "# STEP1 - создание экземпляра модели (Instantiating the Model)\n",
    "model = LinearRegression()\n",
    "\n",
    "# STEP2 - обучение модели (Fitting the Model)\n",
    "model.fit(X_train, Y_train)\n",
    "\n",
    "# STEP3 - расчёт коэффициентов линейной модели Y = intercept_ + coef_ * X\n",
    "print(model.intercept_.round(2))\n",
    "print(model.coef_.round(2))"
   ]
  },
  {
   "cell_type": "code",
   "execution_count": null,
   "metadata": {},
   "outputs": [],
   "source": [
    "# STEP4 - проверка модели на одном тестовом значении (Prediction)\n",
    "new_temp_ground = np.array([23.5]).reshape(-1,1) # необходим 2d или DataFrame\n",
    "print(model.predict(new_temp_ground))\n",
    "\n",
    "# STEP5 - проверка модели на множестве тестовых значений (оценка производительности)\n",
    "y_test_predicted = model.predict(X_test)\n",
    "print(y_test_predicted)"
   ]
  },
  {
   "cell_type": "code",
   "execution_count": null,
   "metadata": {},
   "outputs": [],
   "source": [
    "# STEP6 - среднеквадратическая ошибка (mean squared error (MSE) -> 0)\n",
    "residuals = Y_test - y_test_predicted\n",
    "print((residuals**2).mean())\n",
    "\n",
    "# STEP7 - нахождение R-квадрата (R-squared, 0-100%)\n",
    "# 1 - (residuals**2).sum() / ((Y_test-Y_test.mean())**2).sum()\n",
    "print(model.score(X_test, Y_test))"
   ]
  },
  {
   "cell_type": "code",
   "execution_count": null,
   "metadata": {},
   "outputs": [],
   "source": [
    "# STEP8 - графический анализ результатов (Residuals)\n",
    "plt.scatter(X_test, Y_test, label='Экспериментальные данные');\n",
    "plt.plot(X_test, y_test_predicted, label='Модель', linewidth=3)\n",
    "plt.xlabel('temp_ground'); plt.ylabel('temp_air')\n",
    "plt.legend(loc='upper left')\n",
    "plt.show()"
   ]
  },
  {
   "cell_type": "markdown",
   "metadata": {},
   "source": [
    "### 6.3. Классификация"
   ]
  },
  {
   "cell_type": "code",
   "execution_count": null,
   "metadata": {},
   "outputs": [],
   "source": [
    "import pandas as pd\n",
    "iris = pd.read_csv('iris.csv')\n",
    "\n",
    "print(iris['species'].value_counts())"
   ]
  },
  {
   "cell_type": "code",
   "execution_count": null,
   "metadata": {},
   "outputs": [],
   "source": [
    "import matplotlib.pyplot as plt\n",
    "import pandas as pd\n",
    "iris = pd.read_csv('iris.csv')\n",
    "\n",
    "# создадим цифровой код для каждого сорта\n",
    "inv_name_dict = {'iris-setosa': 0,\n",
    "                 'iris-versicolor': 1,\n",
    "                 'iris-virginica': 2}\n",
    "\n",
    "# создадим цифровой код для каждого цвета\n",
    "colors = [inv_name_dict[item] for item in iris['species']] \n",
    "\n",
    "scatter = plt.scatter(iris['sepal_len'], iris['sepal_wd'], c = colors)\n",
    "plt.xlabel('sepal length (cm)')\n",
    "plt.ylabel('sepal width (cm)')\n",
    "plt.legend(handles=scatter.legend_elements()[0],\n",
    "labels = inv_name_dict.keys())\n",
    "plt.show()"
   ]
  },
  {
   "cell_type": "code",
   "execution_count": null,
   "metadata": {},
   "outputs": [],
   "source": [
    "# Подключение библиотеки Pandas\n",
    "import pandas as pd\n",
    "iris = pd.read_csv('iris.csv')\n",
    "\n",
    "# Подключение train_test_split из модуля scikit-learn\n",
    "from sklearn.model_selection import train_test_split\n",
    "\n",
    "# Подключение neighbors из модуля scikit-learn\n",
    "from sklearn.neighbors import KNeighborsClassifier\n",
    "\n",
    "X = iris[['petal_len', 'petal_wd']] # строго двойные кв. скобки\n",
    "y = iris['species']\n",
    "\n",
    "# Разбиение данных на два подмножества: для обучения и тестирования (Train-Test Split)\n",
    "X_train, X_test, y_train, y_test = train_test_split(X, y, test_size=0.30, random_state=1, stratify=y)"
   ]
  },
  {
   "cell_type": "code",
   "execution_count": null,
   "metadata": {},
   "outputs": [],
   "source": [
    "# STEP1 - создание экземпляра модели (Instantiating the Model)\n",
    "# Кол-во соседних значений n = 5\n",
    "knn = KNeighborsClassifier(n_neighbors=5)\n",
    "\n",
    "# STEP2 - подгонка модели (Fitting the Model)\n",
    "knn.fit(X_train, y_train)\n",
    "\n",
    "# STEP3 - проверка модели на одном тестовом значении (Prediction)\n",
    "import numpy as np\n",
    "new_data = np.array([3.76, 1.20])\n",
    "new_data = new_data.reshape(1, -1)\n",
    "print(knn.predict(new_data))\n",
    "# STEP4 - проверка модели на множестве тестовых значений (Prediction)\n",
    "pred_X_test = knn.predict(X_test)\n",
    "print(pred_X_test)\n",
    "\n",
    "# STEP5 - вероятностное предсказание (Probability Prediction)\n",
    "y_pred_prob = knn.predict_proba(X_test)\n",
    "print(y_pred_prob[10:12])\n",
    "\n",
    "# STEP6 - проверка точности модели\n",
    "print(knn.score(X_test, y_test))\n",
    "\n",
    "# STEP7 - построение матрицы неточностей и метрик precision, recall, F-мера\n",
    "y_pred = knn.predict(X_test)\n",
    "\n",
    "from sklearn.metrics import classification_report\n",
    "report = classification_report(y_test, y_pred)\n",
    "print(report)\n",
    "\n",
    "from sklearn.metrics import confusion_matrix \n",
    "print(confusion_matrix(y_test, y_pred))"
   ]
  },
  {
   "cell_type": "code",
   "execution_count": null,
   "metadata": {},
   "outputs": [],
   "source": [
    "# STEP8 - перекрёстная проверка (K-fold Cross Validation)\n",
    "from sklearn.model_selection import cross_val_score\n",
    "\n",
    "knn_cv = KNeighborsClassifier(n_neighbors=3)\n",
    "# 5-fold cv\n",
    "cv_scores = cross_val_score(knn_cv, X, y, cv=5)\n",
    "# print each cv score (accuracy)\n",
    "print(cv_scores)\n",
    "print(cv_scores.mean())\n",
    "\n",
    "# STEP9 - перекрёстная проверка (K-fold Cross Validation с GridSearchCV)\n",
    "from sklearn.model_selection import GridSearchCV\n",
    "# Создание нового экземпляра модели (Instantiating the Model)\n",
    "knn2 = KNeighborsClassifier()\n",
    "# Создание словаря с разными параметрами соседних значений\n",
    "param_grid = {'n_neighbors': np.arange(2, 10)}\n",
    "# Анализ всех n_neighbors при 5-кратной перекрёстной проверке\n",
    "# Обычно используют 5-ти или 10-кратную перекрёстную проверку\n",
    "knn_gscv = GridSearchCV(knn2, param_grid, cv=5)\n",
    "# Подгонка модели и вывод лучшего n_neighbors\n",
    "knn_gscv.fit(X, y)\n",
    "print(knn_gscv.best_params_) "
   ]
  },
  {
   "cell_type": "markdown",
   "metadata": {},
   "source": [
    "### 6.4. Деревья решений"
   ]
  },
  {
   "cell_type": "code",
   "execution_count": null,
   "metadata": {},
   "outputs": [],
   "source": [
    "# Подключение библиотеки Pandas\n",
    "import pandas as pd\n",
    "# Подключение библиотеки sklearn\n",
    "from sklearn import tree\n",
    "# Использование модели классификации в деревьях решений\n",
    "from sklearn.tree import DecisionTreeClassifier\n",
    "\n",
    "df = pd.read_csv('weather.csv')\n",
    "\n",
    "# rename и map() позволяют преобразовать категориальные признаки в числа\n",
    "rename = {'rain': 1, 'sunny': 0}\n",
    "# целевая переменная\n",
    "df['rainfall'] = df['rainfall'].map(rename)\n",
    "\n",
    "# переменные для построения модели\n",
    "features = ['temp', 'press', 'wind', 'humidity', 'temp_water']\n",
    "\n",
    "X = df[features]\n",
    "y = df['rainfall']\n",
    "\n",
    "# создание экземпляра класса (Instantiating the Model)\n",
    "dtree = DecisionTreeClassifier()\n",
    "\n",
    "# подгонка модели (Fitting the Model)\n",
    "dtree = dtree.fit(X, y)\n",
    "\n",
    "# предсказание модели (Prediction)\n",
    "X_new = [15, 750, 4.3, 63, 14]\n",
    "print(dtree.predict([X_new]))\n",
    "\n",
    "# если [1] – будет дождь, если [0] – будет солнечная погода\n",
    "print(\"[1] rain\")\n",
    "print(\"[0] sunny\")"
   ]
  },
  {
   "cell_type": "code",
   "execution_count": null,
   "metadata": {},
   "outputs": [],
   "source": [
    "# Подключение библиотеки Pandas\n",
    "import pandas as pd\n",
    "# Подключение библиотеки sklearn\n",
    "from sklearn import tree\n",
    "# Использование модели классификации в деревьях решений\n",
    "from sklearn.tree import DecisionTreeClassifier\n",
    "\n",
    "# Библиотеки для построения графика\n",
    "import pydotplus\n",
    "import matplotlib.pyplot as plt\n",
    "import matplotlib.image as pltimg\n",
    "\n",
    "df = pd.read_csv('weather.csv')\n",
    "\n",
    "# rename и map() позволяют преобразовать категориальные признаки в числа\n",
    "rename = {'rain': 1, 'sunny': 0}\n",
    "# целевая переменная\n",
    "df['rainfall'] = df['rainfall'].map(rename)\n",
    "\n",
    "# переменные для построения модели\n",
    "features = ['temp', 'press', 'wind', 'humidity', 'temp_water']\n",
    "\n",
    "X = df[features]\n",
    "y = df['rainfall']\n",
    "\n",
    "# создание экземпляра класса (Instantiating the Model)\n",
    "dtree = DecisionTreeClassifier()\n",
    "\n",
    "# подгонка модели (Fitting the Model)\n",
    "dtree = dtree.fit(X, y)\n",
    "\n",
    "# построение графика и создание изображения\n",
    "data = tree.export_graphviz(dtree, out_file=None, feature_names=features)\n",
    "graph = pydotplus.graph_from_dot_data(data)\n",
    "graph.write_png('decisiontree.png')\n",
    "\n",
    "# вывод графика на экран\n",
    "img=pltimg.imread('decisiontree.png')\n",
    "imgplot = plt.imshow(img)\n",
    "plt.show()"
   ]
  },
  {
   "cell_type": "markdown",
   "metadata": {},
   "source": [
    "### 6.5. Нейронные сети"
   ]
  },
  {
   "cell_type": "code",
   "execution_count": null,
   "metadata": {},
   "outputs": [],
   "source": [
    "from sklearn.neural_network import MLPClassifier\n",
    "from sklearn.preprocessing import StandardScaler\n",
    "from sklearn.model_selection import train_test_split\n",
    "import pandas as pd\n",
    "import numpy as np\n",
    "\n",
    "iris = pd.read_csv('iris.csv')\n",
    "\n",
    "X = iris[['petal_len', 'petal_wd', 'sepal_len', 'sepal_wd']] # строго двойные кв. скобки\n",
    "y = iris['species']\n",
    "\n",
    "X_train, X_test, y_train, y_test = train_test_split(X, y, test_size=0.30, random_state=1, stratify=y)\n",
    "\n",
    "clf = MLPClassifier(solver = 'lbfgs', alpha=1e-5, max_iter = 1000, random_state = 0)\n",
    "\n",
    "scale = StandardScaler()\n",
    "clf = clf.fit(X_train, y_train)\n",
    "\n",
    "X_test_scaled = scale.fit_transform(X_test)\n",
    "\n",
    "print('prediction: ', clf.predict(X_test_scaled))\n",
    "print(clf.score(X_test_scaled, y_test).round(2))"
   ]
  },
  {
   "cell_type": "markdown",
   "metadata": {},
   "source": [
    "### 6.6. Кластеризация"
   ]
  },
  {
   "cell_type": "code",
   "execution_count": null,
   "metadata": {},
   "outputs": [],
   "source": [
    "import numpy as np\n",
    "\n",
    "x1 = np.array([0, 2])\n",
    "x2 = np.array([4, 0])\n",
    "result = np.sqrt(((x1-x2)**2).sum())\n",
    "print(np.sqrt(result).round(2))"
   ]
  },
  {
   "cell_type": "markdown",
   "metadata": {},
   "source": [
    "### 1. Загрузка данных. Предварительный анализ."
   ]
  },
  {
   "cell_type": "code",
   "execution_count": null,
   "metadata": {},
   "outputs": [],
   "source": [
    "import numpy as np\n",
    "import pandas as pd\n",
    "from sklearn.datasets import load_wine\n",
    "\n",
    "data = load_wine()\n",
    "wine = pd.DataFrame(data.data, columns=data.feature_names)\n",
    "print(wine.shape)\n",
    "print(wine.columns)"
   ]
  },
  {
   "cell_type": "markdown",
   "metadata": {},
   "source": [
    "### 2. Графическое представление данных."
   ]
  },
  {
   "cell_type": "code",
   "execution_count": null,
   "metadata": {},
   "outputs": [],
   "source": [
    "import matplotlib.pyplot as plt\n",
    "import numpy as np\n",
    "import pandas as pd\n",
    "from sklearn.datasets import load_wine\n",
    "from pandas.plotting import scatter_matrix\n",
    "\n",
    "data = load_wine()\n",
    "wine = pd.DataFrame(data.data, columns=data.feature_names)\n",
    "scatter_matrix(wine.iloc[:,[0,5]])\n",
    "plt.show()"
   ]
  },
  {
   "cell_type": "markdown",
   "metadata": {},
   "source": [
    "### 3. Стандартизация. Масштабирование"
   ]
  },
  {
   "cell_type": "code",
   "execution_count": null,
   "metadata": {},
   "outputs": [],
   "source": [
    "import numpy as np\n",
    "import pandas as pd\n",
    "from sklearn.datasets import load_wine\n",
    "\n",
    "data = load_wine()\n",
    "wine = pd.DataFrame(data.data, columns=data.feature_names)\n",
    "\n",
    "X = wine[['alcohol', 'total_phenols']] \n",
    "\n",
    "from sklearn.preprocessing import StandardScaler\n",
    "scale = StandardScaler()\n",
    "scale.fit(X)\n",
    "\n",
    "print(scale.mean_)\n",
    "print(scale.scale_)\n",
    "\n",
    "X_scaled = scale.transform(X)\n",
    "print(X_scaled.mean(axis=0))\n",
    "print(X_scaled.std(axis=0))"
   ]
  },
  {
   "cell_type": "code",
   "execution_count": null,
   "metadata": {},
   "outputs": [],
   "source": [
    "import pandas as pd\n",
    "from sklearn.datasets import load_wine\n",
    "from sklearn.preprocessing import StandardScaler\n",
    "\n",
    "data = load_wine()\n",
    "wine = pd.DataFrame(data.data, columns=data.feature_names)\n",
    "\n",
    "X = wine[['alcohol', 'total_phenols']]\n",
    "\n",
    "scale = StandardScaler()\n",
    "scale.fit(X)\n",
    "X_scaled = scale.transform(X)\n",
    "\n",
    "from sklearn.cluster import KMeans\n",
    "# Создание нового экземпляра модели (Instantiating the Model)\n",
    "kmeans = KMeans(n_clusters=3)\n",
    "# Обучение модели (Fitting the Model)\n",
    "kmeans.fit(X_scaled)\n",
    "# Проверка модели (Prediction)\n",
    "y_pred = kmeans.predict(X_scaled)\n",
    "print(y_pred)\n",
    "\n",
    "# Предсказание на одном образце\n",
    "X_new = np.array([[13, 2.5]])\n",
    "X_new_scaled = scale.transform(X_new)\n",
    "\n",
    "print(kmeans.predict(X_new_scaled))"
   ]
  },
  {
   "cell_type": "markdown",
   "metadata": {},
   "source": [
    "### 4. Оптимизация количества кластеров."
   ]
  },
  {
   "cell_type": "code",
   "execution_count": null,
   "metadata": {},
   "outputs": [],
   "source": [
    "import pandas as pd\n",
    "import matplotlib.pyplot as plt\n",
    "from sklearn.datasets import load_wine\n",
    "from sklearn.preprocessing import StandardScaler\n",
    "from sklearn.cluster import KMeans\n",
    "\n",
    "data = load_wine()\n",
    "wine = pd.DataFrame(data.data, columns=data.feature_names)\n",
    "\n",
    "X = wine[['alcohol', 'total_phenols']]\n",
    "\n",
    "scale = StandardScaler()\n",
    "scale.fit(X)\n",
    "X_scaled = scale.transform(X)\n",
    "\n",
    "kmeans = KMeans(n_clusters=3)\n",
    "kmeans.fit(X_scaled)\n",
    "print(kmeans.inertia_)\n",
    "\n",
    "import numpy as np\n",
    "# Вычисление инерции при разном кол-ве кластеров\n",
    "inertia = []\n",
    "for i in np.arange(1, 11):\n",
    "    km = KMeans(\n",
    "        n_clusters=i\n",
    "    )\n",
    "    km.fit(X_scaled)\n",
    "    inertia.append(km.inertia_)\n",
    "\n",
    "plt.plot(np.arange(1, 11), inertia, marker='o')\n",
    "plt.xlabel('Number of clusters')\n",
    "plt.ylabel('Inertia')\n",
    "plt.show()"
   ]
  },
  {
   "cell_type": "markdown",
   "metadata": {},
   "source": [
    "## 7. Сбор и хранение данных\n",
    "### 7.1. Работа с файлами формата csv и excel"
   ]
  },
  {
   "cell_type": "code",
   "execution_count": null,
   "metadata": {},
   "outputs": [],
   "source": [
    "# Подключение библиотеки pandas\n",
    "import pandas as pd\n",
    "\n",
    "# Применение метода read_csv\n",
    "df = pd.read_csv('iris.csv')\n",
    "# Сводная информация о таблице данных\n",
    "print(df.info())"
   ]
  },
  {
   "cell_type": "code",
   "execution_count": null,
   "metadata": {},
   "outputs": [],
   "source": [
    "import pandas as pd\n",
    "# Загрузка определённых столбцов из таблицы, id – индексный столбец\n",
    "\n",
    "df = pd.read_csv('iris.csv', usecols = ['id', 'sepal_len', 'sepal_wd'], index_col = ['id'], skiprows = 0, nrows = 50)\n",
    "\n",
    "# Срез данных: первые 6 строк и 3 столбца\n",
    "df_reject = df.loc[:5, :]\n",
    "print(df_reject)\n",
    "\n",
    "# Сохранение нового файла iris_rej.csv, разделитель ','\n",
    "df_reject.to_csv('iris_rej.csv', sep = ',')"
   ]
  },
  {
   "cell_type": "code",
   "execution_count": null,
   "metadata": {},
   "outputs": [],
   "source": [
    "import pandas as pd\n",
    "# Подключение библиотеки для работы с xlsx\n",
    "import openpyxl\n",
    "# Загрузка определённых столбцов из таблицы\n",
    "df = pd.read_csv('iris.csv', usecols = ['id', 'sepal_len', 'sepal_wd'])\n",
    "\n",
    "# Срез данных: первые 6 строк и 3 столбца\n",
    "df_reject = df.loc[:5, :]\n",
    "print(df_reject)\n",
    "\n",
    "df_reject.to_excel('iris.xlsx', startrow=0, startcol=0, sheet_name = 'Книга1)"
   ]
  },
  {
   "cell_type": "markdown",
   "metadata": {},
   "source": [
    "### 7.2. Работа с файлами формата txt"
   ]
  },
  {
   "cell_type": "code",
   "execution_count": null,
   "metadata": {},
   "outputs": [],
   "source": [
    "import pandas as pd\n",
    "\n",
    "df = pd.read_csv('iris.txt', sep = ',')\n",
    "# df = pd.read_table('iris.txt', sep = ',')\n",
    "\n",
    "# Срез данных: первые 6 строк и все столбцы\n",
    "df_reject = df.loc[:5, :]\n",
    "print(df_reject)\n",
    "\n",
    "df.to_csv('iris_rej.txt', sep='\\t', encoding='utf-8')"
   ]
  },
  {
   "cell_type": "markdown",
   "metadata": {},
   "source": [
    "### 7.3. Чтение и запись JSON-файлов"
   ]
  },
  {
   "cell_type": "code",
   "execution_count": null,
   "metadata": {},
   "outputs": [],
   "source": [
    "import pandas as pd\n",
    "import json\n",
    "\n",
    "df = pd.read_csv('iris.txt', sep = ',')\n",
    "\n",
    "# Срез данных: первые 6 строк и все столбцы\n",
    "df_reject = df.loc[:5, :]\n",
    "print(df_reject)\n",
    "\n",
    "df.to_json('iris.json')"
   ]
  },
  {
   "cell_type": "markdown",
   "metadata": {},
   "source": [
    "### 7.4. Чтение html-файлов из интернета, парсинг данных, API"
   ]
  },
  {
   "cell_type": "code",
   "execution_count": null,
   "metadata": {},
   "outputs": [],
   "source": [
    "import requests\n",
    "# Адрес запрашиваемой страницы\n",
    "URL = 'https://elteha.ru/index.php'\n",
    "\n",
    "# Сохранение запроса в переменную result\n",
    "result = requests.get(URL)\n",
    "\n",
    "# Проверка ответа сервера\n",
    "print(result.status_code)\n",
    "# Вывод результатв в консоль\n",
    "print(result.text)"
   ]
  },
  {
   "cell_type": "code",
   "execution_count": null,
   "metadata": {},
   "outputs": [],
   "source": [
    "import requests\n",
    "import re\n",
    "URL = 'https://elteha.ru/index.php'\n",
    "\n",
    "result = requests.get(URL).text\n",
    "\n",
    "# Поиск всех вхождений, удовлетворяющих условиям\n",
    "found_parts = re.findall('Проектирование[А-яA-z- ]+', result)\n",
    "print(len(found_parts))\n",
    "print(found_parts)"
   ]
  },
  {
   "cell_type": "code",
   "execution_count": null,
   "metadata": {},
   "outputs": [],
   "source": [
    "import pandas as pd\n",
    "import requests \n",
    "from bs4 import BeautifulSoup\n",
    "\n",
    "URL = 'https://elteha.ru/index.php'\n",
    "result = requests.get(URL).text\n",
    "soup = BeautifulSoup(result, 'lxml')\n",
    "\n",
    "head_title = []\n",
    "for row in soup.find_all('p', attrs = {'class':'top_text_1'}):\n",
    "    head_title.append(row.text)\n",
    "\n",
    "foot_title = []\n",
    "for row in soup.find_all('p', attrs = {'class':'bottom_text_1'}):\n",
    "    foot_title.append(row.text)\n",
    "\n",
    "data = pd.DataFrame({'head-title': head_title,'foot-title': foot_title,})\n",
    "print(data.head(5))"
   ]
  },
  {
   "cell_type": "code",
   "execution_count": null,
   "metadata": {},
   "outputs": [],
   "source": [
    "import requests\n",
    "import json\n",
    "\n",
    "BASE_URL = 'http://api.openweathermap.org/data/2.5/weather'\n",
    "\n",
    "s_city = 'Saratov, RU'\n",
    "appid = 'e9e0185f6cdf9bcb75dd543cb70738d7'\n",
    "\n",
    "params = {'q': s_city, 'units': 'metric', 'APPID': appid}\n",
    "\n",
    "response = requests.get(BASE_URL, params = params)\n",
    "response_parsed = json.loads(response.text)\n",
    "\n",
    "temp = response_parsed['main']['temp']\n",
    "humidity = response_parsed['main']['humidity']\n",
    "\n",
    "print('Погода в Саратове: температура t = {} градусов, влажность H = {}%'. format(temp, humidity))\n"
   ]
  },
  {
   "cell_type": "markdown",
   "metadata": {},
   "source": [
    "### 7.5. Чтение из базы данных SQL, запись в базу данных SQL\n",
    "### 1. Создание базы данных в DB Browser for SQLite\n",
    "### 2. Создание программы для подключения к базе данных"
   ]
  },
  {
   "cell_type": "code",
   "execution_count": null,
   "metadata": {},
   "outputs": [],
   "source": [
    "import pandas as pd\n",
    "import sqlite3\n",
    "\n",
    "df = pd.read_csv('iris.csv')\n",
    "\n",
    "# Подключение к базе данных\n",
    "connection = sqlite3.connect('iris_db.sqlite3')\n",
    "\n",
    "# Отправка данных DataFrame в базу (таблица создаётся автоматически)\n",
    "df.to_sql('iris_table', connection, if_exists=\"append\")\n",
    "\n",
    "# Подтверждение отправки данных и закрытие соединения.\n",
    "connection.commit()\n",
    "connection.close()"
   ]
  },
  {
   "cell_type": "markdown",
   "metadata": {},
   "source": [
    "### 3. Чтение данных из базы"
   ]
  },
  {
   "cell_type": "code",
   "execution_count": null,
   "metadata": {},
   "outputs": [],
   "source": [
    "import pandas as pd\n",
    "import sqlite3\n",
    "\n",
    "# Подключение к базе данных\n",
    "connection = sqlite3.connect('iris_db.sqlite3')\n",
    "\n",
    "# Чтение всего * содержимого из таблицы iris_table\n",
    "iris_table = pd.read_sql('SELECT * FROM iris_table',\n",
    "                                connection, index_col = 'index')\n",
    "connection.close()\n",
    "\n",
    "print(iris_table[:5])"
   ]
  },
  {
   "cell_type": "code",
   "execution_count": null,
   "metadata": {},
   "outputs": [],
   "source": [
    "import pandas as pd\n",
    "import sqlite3\n",
    "\n",
    "connection = sqlite3.connect('iris_db.sqlite3')\n",
    "\n",
    "# Чтение данных по условию sepal_len > 5 AND species='iris-setosa'\n",
    "query = \"SELECT * FROM iris_table WHERE sepal_len > 5 AND species='iris-setosa'\"\n",
    "\n",
    "iris_table = pd.read_sql(query, connection, index_col = 'index')\n",
    "connection.close()\n",
    "\n",
    "print(iris_table[:10])"
   ]
  },
  {
   "cell_type": "markdown",
   "metadata": {},
   "source": [
    "## 7.6. Операторы для работы с базой данных в библиотеке sqlite3"
   ]
  },
  {
   "cell_type": "code",
   "execution_count": null,
   "metadata": {},
   "outputs": [],
   "source": [
    "import sqlite3 as sq\n",
    "\n",
    "# Соединение с базой данных db\n",
    "con = sq.connect(\"db.sqlite3\")\n",
    "\n",
    "# Создание курсора (объекта для работы с БД)\n",
    "cur = con.cursor()\n",
    "\n",
    "# Создание новой таблицы\n",
    "cur.executescript(\"\"\"CREATE TABLE IF NOT EXISTS fruit (\n",
    "            fruit_id INTEGER PRIMARY KEY AUTOINCREMENT,\n",
    "            fruit TEXT,\n",
    "            price INTEGER)\n",
    "    \"\"\")\n",
    "# Закрытие соединения\n",
    "con.commit()\n",
    "con.close()"
   ]
  },
  {
   "cell_type": "code",
   "execution_count": null,
   "metadata": {},
   "outputs": [],
   "source": [
    "import sqlite3 as sq\n",
    "\n",
    "# Данные о фруктах\n",
    "fruit = [\n",
    "    ('Apple', 1.5),\n",
    "    ('Orange', 2.0),\n",
    "    ('Banana', 1.7),\n",
    "    ('Peach', 1.0),\n",
    "    ('Grape', 2.5)\n",
    "]\n",
    "\n",
    "con = sq.connect(\"db.sqlite3\")\n",
    "cur = con.cursor()\n",
    "\n",
    "# Вставка данных в таблицу\n",
    "cur.executemany(\"INSERT INTO fruit VALUES(NULL,?,?)\", fruit)\n",
    "\n",
    "con.commit()\n",
    "con.close()"
   ]
  },
  {
   "cell_type": "code",
   "execution_count": null,
   "metadata": {},
   "outputs": [],
   "source": [
    "import sqlite3 as sq\n",
    "\n",
    "con = sq.connect(\"db.sqlite3\")\n",
    "cur = con.cursor()\n",
    "\n",
    "# Чтение всех данных из таблицы fruit\n",
    "cur.execute(\"SELECT fruit, price FROM fruit\")\n",
    "\n",
    "# rows = cur.fetchall() – вывод всех данных\n",
    "# rows = cur.fetchone() – вывод одного значения\n",
    "# rows = cur.fetchmany(4) – вывод 4 значений\n",
    "\n",
    "print(rows)\n",
    "\n",
    "con.commit()\n",
    "con.close()"
   ]
  },
  {
   "cell_type": "code",
   "execution_count": null,
   "metadata": {},
   "outputs": [],
   "source": [
    "import sqlite3 as sq\n",
    "\n",
    "con = sq.connect(\"db.sqlite3\")\n",
    "cur = con.cursor()\n",
    "\n",
    "# Удаление данных из таблицы с id = 3\n",
    "cur.execute(\"DELETE FROM fruit WHERE fruit_id = 3\")\n",
    "\n",
    "# Обновим данных в таблице с id = 1\n",
    "cur.execute(\"UPDATE fruit SET price = 2.2 WHERE fruit_id = 1\")\n",
    "\n",
    "con.commit()\n",
    "con.close()"
   ]
  },
  {
   "cell_type": "markdown",
   "metadata": {},
   "source": [
    "## 7.7. Представление результатов в Jupyter Notebook – IPython"
   ]
  },
  {
   "cell_type": "code",
   "execution_count": null,
   "metadata": {},
   "outputs": [],
   "source": [
    "pip3 install jupyter # Для Python 3"
   ]
  },
  {
   "cell_type": "code",
   "execution_count": null,
   "metadata": {},
   "outputs": [],
   "source": [
    "jupyter notebook # Запуск приложения"
   ]
  },
  {
   "cell_type": "markdown",
   "metadata": {},
   "source": [
    "## 7.8. Редактор кода Visual Studio Code"
   ]
  },
  {
   "cell_type": "code",
   "execution_count": null,
   "metadata": {},
   "outputs": [],
   "source": [
    "# Создание виртуального окружения, venv - название вс\n",
    "python -m venv venv\n",
    "\n",
    "# Активация рабочей среды \n",
    "venv\\scripts\\activate    # для Windows\n",
    "source venv/bin/activate # для Linux\n",
    "\n",
    "# Деактивация рабочей среды \n",
    "venv\\scripts\\deactivate\n",
    "\n",
    "# https://medium.com/@ph1l74/python-venv-на-windows-10-2118ad685b1"
   ]
  },
  {
   "cell_type": "markdown",
   "metadata": {},
   "source": [
    "## 7.9. Система контроля версий git\n",
    "### 1. Установка и настройка системы контроля версий git."
   ]
  },
  {
   "cell_type": "code",
   "execution_count": null,
   "metadata": {},
   "outputs": [],
   "source": [
    "$ git config --list --show-origin"
   ]
  },
  {
   "cell_type": "code",
   "execution_count": null,
   "metadata": {},
   "outputs": [],
   "source": [
    "# Имя пользователя\n",
    "$ git config --global user.name \"John Doe\"\n",
    "\n",
    "# Адрес электронной почты пользователя\n",
    "$ git config --global user.email johndoe@example.com"
   ]
  },
  {
   "cell_type": "code",
   "execution_count": null,
   "metadata": {},
   "outputs": [],
   "source": [
    "# Для инициализации ветки master по умолчанию\n",
    "$ git init\n",
    "\n",
    "# Для инициализации ветки main по умолчанию\n",
    "$ git config --global init.defaultBranch main"
   ]
  },
  {
   "cell_type": "code",
   "execution_count": null,
   "metadata": {},
   "outputs": [],
   "source": [
    "# Проверка установок\n",
    "$ git config –list"
   ]
  },
  {
   "cell_type": "code",
   "execution_count": null,
   "metadata": {},
   "outputs": [],
   "source": [
    "# Для Linux:\n",
    "$ cd /home/user/my_project\n",
    "\n",
    "# Для macOS:\n",
    "$ cd /Users/user/my_project\n",
    "\n",
    "# Для Windows:\n",
    "$ cd C:/Users/user/my_project\n",
    "\n",
    "$ git init\n",
    "\n",
    "# Последующий коммит файлов\n",
    "$ git add *.c\n",
    "$ git add LICENSE\n",
    "$ git commit -m 'Initial project version'"
   ]
  },
  {
   "cell_type": "code",
   "execution_count": null,
   "metadata": {},
   "outputs": [],
   "source": [
    "# Копирование удалённого репозитория\n",
    "# url в формате https://\n",
    "$ git сlone <url>"
   ]
  },
  {
   "cell_type": "markdown",
   "metadata": {},
   "source": [
    "### 2. Создание аккаунта и удалённого репозитория на сайте github.com.\n",
    "### 3. Подключение к репозиторию с помощью программы VS Code."
   ]
  },
  {
   "cell_type": "code",
   "execution_count": null,
   "metadata": {},
   "outputs": [],
   "source": [
    "# Инициализация репозитория на компьютере\n",
    "$ git init\n",
    "\n",
    "# Проверка состояния системы (на любом этапе)\n",
    "$ git status\n",
    "\n",
    "# Добавление индексируемых файлов\n",
    "$ git add *.c\n",
    "\n",
    "# Подготовка коммита и сообщения для отправки\n",
    "$ git commit -m 'Initial project version'\n",
    "\n",
    "# Отправка изменений и содержимого НА удалённый репозиторий\n",
    "$ git push\n",
    "\n",
    "# Извлечение и загрузка содержимого ИЗ удалённого репозитория\n",
    "$ git pull"
   ]
  },
  {
   "cell_type": "code",
   "execution_count": null,
   "metadata": {},
   "outputs": [],
   "source": [
    "# Инициализируем репозиторий на локальном компьютере\n",
    "$ git init\n",
    "\n",
    "# Клонируем удалённый репозиторий\n",
    "$ git clone https://github.com/mculab64/new_rep.git"
   ]
  },
  {
   "cell_type": "code",
   "execution_count": null,
   "metadata": {},
   "outputs": [],
   "source": [
    "# Индексирование файлов, атрибут –A позволит индексировать все файлы\n",
    "$ git add -A\n",
    "\n",
    "# Подготовка коммита и сообщения для отправки\n",
    "$ git commit -m 'Initial project version'\n",
    "\n",
    "# Отправка изменений и содержимого НА удалённый репозиторий\n",
    "$ git push"
   ]
  }
 ],
 "metadata": {
  "kernelspec": {
   "display_name": "Python 3 (ipykernel)",
   "language": "python",
   "name": "python3"
  },
  "language_info": {
   "codemirror_mode": {
    "name": "ipython",
    "version": 3
   },
   "file_extension": ".py",
   "mimetype": "text/x-python",
   "name": "python",
   "nbconvert_exporter": "python",
   "pygments_lexer": "ipython3",
   "version": "3.9.7"
  }
 },
 "nbformat": 4,
 "nbformat_minor": 2
}
